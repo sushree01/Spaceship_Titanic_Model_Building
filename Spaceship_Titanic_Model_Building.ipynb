{
 "cells": [
  {
   "cell_type": "markdown",
   "id": "d4796570",
   "metadata": {},
   "source": [
    "## 1.Importing Required Libraries"
   ]
  },
  {
   "cell_type": "code",
   "execution_count": 1,
   "id": "dffa3dce",
   "metadata": {},
   "outputs": [],
   "source": [
    "import pandas as pd\n",
    "import numpy as np\n",
    "import matplotlib.pyplot as plt\n",
    "import seaborn as sns"
   ]
  },
  {
   "cell_type": "code",
   "execution_count": 2,
   "id": "76cb424f",
   "metadata": {},
   "outputs": [],
   "source": [
    "# display all columns of the dataframe\n",
    "pd.options.display.max_columns = None\n",
    "\n",
    "# display all rows of the dataframe\n",
    "pd.options.display.max_rows = 100"
   ]
  },
  {
   "cell_type": "code",
   "execution_count": 3,
   "id": "43d44c85",
   "metadata": {},
   "outputs": [],
   "source": [
    "from sklearn.preprocessing import StandardScaler\n",
    "from sklearn.linear_model import LogisticRegression\n",
    "from sklearn.tree import DecisionTreeClassifier\n",
    "from sklearn.ensemble import RandomForestClassifier,BaggingClassifier\n",
    "from sklearn.model_selection import GridSearchCV,cross_val_score,RepeatedKFold,cross_val_predict\n",
    "from xgboost import XGBClassifier\n",
    "from sklearn.neighbors import KNeighborsClassifier\n",
    "from sklearn.feature_selection import RFE\n",
    "from sklearn.svm import SVC"
   ]
  },
  {
   "cell_type": "code",
   "execution_count": 4,
   "id": "772d29ff",
   "metadata": {},
   "outputs": [],
   "source": [
    "from sklearn.metrics import accuracy_score"
   ]
  },
  {
   "cell_type": "code",
   "execution_count": 5,
   "id": "2700c6e2",
   "metadata": {},
   "outputs": [],
   "source": [
    "from warnings import filterwarnings\n",
    "filterwarnings('ignore')"
   ]
  },
  {
   "cell_type": "markdown",
   "id": "cac83e07",
   "metadata": {},
   "source": [
    "## 2.Loading the Data"
   ]
  },
  {
   "cell_type": "code",
   "execution_count": 6,
   "id": "2d829fc5",
   "metadata": {
    "scrolled": true
   },
   "outputs": [
    {
     "data": {
      "text/html": [
       "<div>\n",
       "<style scoped>\n",
       "    .dataframe tbody tr th:only-of-type {\n",
       "        vertical-align: middle;\n",
       "    }\n",
       "\n",
       "    .dataframe tbody tr th {\n",
       "        vertical-align: top;\n",
       "    }\n",
       "\n",
       "    .dataframe thead th {\n",
       "        text-align: right;\n",
       "    }\n",
       "</style>\n",
       "<table border=\"1\" class=\"dataframe\">\n",
       "  <thead>\n",
       "    <tr style=\"text-align: right;\">\n",
       "      <th></th>\n",
       "      <th>PassengerId</th>\n",
       "      <th>HomePlanet</th>\n",
       "      <th>CryoSleep</th>\n",
       "      <th>Cabin</th>\n",
       "      <th>Destination</th>\n",
       "      <th>Age</th>\n",
       "      <th>VIP</th>\n",
       "      <th>RoomService</th>\n",
       "      <th>FoodCourt</th>\n",
       "      <th>ShoppingMall</th>\n",
       "      <th>Spa</th>\n",
       "      <th>VRDeck</th>\n",
       "      <th>Name</th>\n",
       "      <th>Transported</th>\n",
       "    </tr>\n",
       "  </thead>\n",
       "  <tbody>\n",
       "    <tr>\n",
       "      <th>0</th>\n",
       "      <td>0001_01</td>\n",
       "      <td>Europa</td>\n",
       "      <td>False</td>\n",
       "      <td>B/0/P</td>\n",
       "      <td>TRAPPIST-1e</td>\n",
       "      <td>39.0</td>\n",
       "      <td>False</td>\n",
       "      <td>0.0</td>\n",
       "      <td>0.0</td>\n",
       "      <td>0.0</td>\n",
       "      <td>0.0</td>\n",
       "      <td>0.0</td>\n",
       "      <td>Maham Ofracculy</td>\n",
       "      <td>False</td>\n",
       "    </tr>\n",
       "    <tr>\n",
       "      <th>1</th>\n",
       "      <td>0002_01</td>\n",
       "      <td>Earth</td>\n",
       "      <td>False</td>\n",
       "      <td>F/0/S</td>\n",
       "      <td>TRAPPIST-1e</td>\n",
       "      <td>24.0</td>\n",
       "      <td>False</td>\n",
       "      <td>109.0</td>\n",
       "      <td>9.0</td>\n",
       "      <td>25.0</td>\n",
       "      <td>549.0</td>\n",
       "      <td>44.0</td>\n",
       "      <td>Juanna Vines</td>\n",
       "      <td>True</td>\n",
       "    </tr>\n",
       "    <tr>\n",
       "      <th>2</th>\n",
       "      <td>0003_01</td>\n",
       "      <td>Europa</td>\n",
       "      <td>False</td>\n",
       "      <td>A/0/S</td>\n",
       "      <td>TRAPPIST-1e</td>\n",
       "      <td>58.0</td>\n",
       "      <td>True</td>\n",
       "      <td>43.0</td>\n",
       "      <td>3576.0</td>\n",
       "      <td>0.0</td>\n",
       "      <td>6715.0</td>\n",
       "      <td>49.0</td>\n",
       "      <td>Altark Susent</td>\n",
       "      <td>False</td>\n",
       "    </tr>\n",
       "    <tr>\n",
       "      <th>3</th>\n",
       "      <td>0003_02</td>\n",
       "      <td>Europa</td>\n",
       "      <td>False</td>\n",
       "      <td>A/0/S</td>\n",
       "      <td>TRAPPIST-1e</td>\n",
       "      <td>33.0</td>\n",
       "      <td>False</td>\n",
       "      <td>0.0</td>\n",
       "      <td>1283.0</td>\n",
       "      <td>371.0</td>\n",
       "      <td>3329.0</td>\n",
       "      <td>193.0</td>\n",
       "      <td>Solam Susent</td>\n",
       "      <td>False</td>\n",
       "    </tr>\n",
       "    <tr>\n",
       "      <th>4</th>\n",
       "      <td>0004_01</td>\n",
       "      <td>Earth</td>\n",
       "      <td>False</td>\n",
       "      <td>F/1/S</td>\n",
       "      <td>TRAPPIST-1e</td>\n",
       "      <td>16.0</td>\n",
       "      <td>False</td>\n",
       "      <td>303.0</td>\n",
       "      <td>70.0</td>\n",
       "      <td>151.0</td>\n",
       "      <td>565.0</td>\n",
       "      <td>2.0</td>\n",
       "      <td>Willy Santantines</td>\n",
       "      <td>True</td>\n",
       "    </tr>\n",
       "  </tbody>\n",
       "</table>\n",
       "</div>"
      ],
      "text/plain": [
       "  PassengerId HomePlanet CryoSleep  Cabin  Destination   Age    VIP  \\\n",
       "0     0001_01     Europa     False  B/0/P  TRAPPIST-1e  39.0  False   \n",
       "1     0002_01      Earth     False  F/0/S  TRAPPIST-1e  24.0  False   \n",
       "2     0003_01     Europa     False  A/0/S  TRAPPIST-1e  58.0   True   \n",
       "3     0003_02     Europa     False  A/0/S  TRAPPIST-1e  33.0  False   \n",
       "4     0004_01      Earth     False  F/1/S  TRAPPIST-1e  16.0  False   \n",
       "\n",
       "   RoomService  FoodCourt  ShoppingMall     Spa  VRDeck               Name  \\\n",
       "0          0.0        0.0           0.0     0.0     0.0    Maham Ofracculy   \n",
       "1        109.0        9.0          25.0   549.0    44.0       Juanna Vines   \n",
       "2         43.0     3576.0           0.0  6715.0    49.0      Altark Susent   \n",
       "3          0.0     1283.0         371.0  3329.0   193.0       Solam Susent   \n",
       "4        303.0       70.0         151.0   565.0     2.0  Willy Santantines   \n",
       "\n",
       "   Transported  \n",
       "0        False  \n",
       "1         True  \n",
       "2        False  \n",
       "3        False  \n",
       "4         True  "
      ]
     },
     "execution_count": 6,
     "metadata": {},
     "output_type": "execute_result"
    }
   ],
   "source": [
    "df_train=pd.read_csv('C:/Users/Sushree Jena/Desktop/imarticus/machine learning/Kaggle/spaceship_titanic/train.csv')\n",
    "df_train.head()"
   ]
  },
  {
   "cell_type": "code",
   "execution_count": 7,
   "id": "a192e120",
   "metadata": {
    "scrolled": true
   },
   "outputs": [
    {
     "data": {
      "text/plain": [
       "(8693, 14)"
      ]
     },
     "execution_count": 7,
     "metadata": {},
     "output_type": "execute_result"
    }
   ],
   "source": [
    "df_train.shape"
   ]
  },
  {
   "cell_type": "code",
   "execution_count": 8,
   "id": "e1edc342",
   "metadata": {},
   "outputs": [
    {
     "data": {
      "text/html": [
       "<div>\n",
       "<style scoped>\n",
       "    .dataframe tbody tr th:only-of-type {\n",
       "        vertical-align: middle;\n",
       "    }\n",
       "\n",
       "    .dataframe tbody tr th {\n",
       "        vertical-align: top;\n",
       "    }\n",
       "\n",
       "    .dataframe thead th {\n",
       "        text-align: right;\n",
       "    }\n",
       "</style>\n",
       "<table border=\"1\" class=\"dataframe\">\n",
       "  <thead>\n",
       "    <tr style=\"text-align: right;\">\n",
       "      <th></th>\n",
       "      <th>PassengerId</th>\n",
       "      <th>HomePlanet</th>\n",
       "      <th>CryoSleep</th>\n",
       "      <th>Cabin</th>\n",
       "      <th>Destination</th>\n",
       "      <th>Age</th>\n",
       "      <th>VIP</th>\n",
       "      <th>RoomService</th>\n",
       "      <th>FoodCourt</th>\n",
       "      <th>ShoppingMall</th>\n",
       "      <th>Spa</th>\n",
       "      <th>VRDeck</th>\n",
       "      <th>Name</th>\n",
       "    </tr>\n",
       "  </thead>\n",
       "  <tbody>\n",
       "    <tr>\n",
       "      <th>0</th>\n",
       "      <td>0013_01</td>\n",
       "      <td>Earth</td>\n",
       "      <td>True</td>\n",
       "      <td>G/3/S</td>\n",
       "      <td>TRAPPIST-1e</td>\n",
       "      <td>27.0</td>\n",
       "      <td>False</td>\n",
       "      <td>0.0</td>\n",
       "      <td>0.0</td>\n",
       "      <td>0.0</td>\n",
       "      <td>0.0</td>\n",
       "      <td>0.0</td>\n",
       "      <td>Nelly Carsoning</td>\n",
       "    </tr>\n",
       "    <tr>\n",
       "      <th>1</th>\n",
       "      <td>0018_01</td>\n",
       "      <td>Earth</td>\n",
       "      <td>False</td>\n",
       "      <td>F/4/S</td>\n",
       "      <td>TRAPPIST-1e</td>\n",
       "      <td>19.0</td>\n",
       "      <td>False</td>\n",
       "      <td>0.0</td>\n",
       "      <td>9.0</td>\n",
       "      <td>0.0</td>\n",
       "      <td>2823.0</td>\n",
       "      <td>0.0</td>\n",
       "      <td>Lerome Peckers</td>\n",
       "    </tr>\n",
       "    <tr>\n",
       "      <th>2</th>\n",
       "      <td>0019_01</td>\n",
       "      <td>Europa</td>\n",
       "      <td>True</td>\n",
       "      <td>C/0/S</td>\n",
       "      <td>55 Cancri e</td>\n",
       "      <td>31.0</td>\n",
       "      <td>False</td>\n",
       "      <td>0.0</td>\n",
       "      <td>0.0</td>\n",
       "      <td>0.0</td>\n",
       "      <td>0.0</td>\n",
       "      <td>0.0</td>\n",
       "      <td>Sabih Unhearfus</td>\n",
       "    </tr>\n",
       "    <tr>\n",
       "      <th>3</th>\n",
       "      <td>0021_01</td>\n",
       "      <td>Europa</td>\n",
       "      <td>False</td>\n",
       "      <td>C/1/S</td>\n",
       "      <td>TRAPPIST-1e</td>\n",
       "      <td>38.0</td>\n",
       "      <td>False</td>\n",
       "      <td>0.0</td>\n",
       "      <td>6652.0</td>\n",
       "      <td>0.0</td>\n",
       "      <td>181.0</td>\n",
       "      <td>585.0</td>\n",
       "      <td>Meratz Caltilter</td>\n",
       "    </tr>\n",
       "    <tr>\n",
       "      <th>4</th>\n",
       "      <td>0023_01</td>\n",
       "      <td>Earth</td>\n",
       "      <td>False</td>\n",
       "      <td>F/5/S</td>\n",
       "      <td>TRAPPIST-1e</td>\n",
       "      <td>20.0</td>\n",
       "      <td>False</td>\n",
       "      <td>10.0</td>\n",
       "      <td>0.0</td>\n",
       "      <td>635.0</td>\n",
       "      <td>0.0</td>\n",
       "      <td>0.0</td>\n",
       "      <td>Brence Harperez</td>\n",
       "    </tr>\n",
       "  </tbody>\n",
       "</table>\n",
       "</div>"
      ],
      "text/plain": [
       "  PassengerId HomePlanet CryoSleep  Cabin  Destination   Age    VIP  \\\n",
       "0     0013_01      Earth      True  G/3/S  TRAPPIST-1e  27.0  False   \n",
       "1     0018_01      Earth     False  F/4/S  TRAPPIST-1e  19.0  False   \n",
       "2     0019_01     Europa      True  C/0/S  55 Cancri e  31.0  False   \n",
       "3     0021_01     Europa     False  C/1/S  TRAPPIST-1e  38.0  False   \n",
       "4     0023_01      Earth     False  F/5/S  TRAPPIST-1e  20.0  False   \n",
       "\n",
       "   RoomService  FoodCourt  ShoppingMall     Spa  VRDeck              Name  \n",
       "0          0.0        0.0           0.0     0.0     0.0   Nelly Carsoning  \n",
       "1          0.0        9.0           0.0  2823.0     0.0    Lerome Peckers  \n",
       "2          0.0        0.0           0.0     0.0     0.0   Sabih Unhearfus  \n",
       "3          0.0     6652.0           0.0   181.0   585.0  Meratz Caltilter  \n",
       "4         10.0        0.0         635.0     0.0     0.0   Brence Harperez  "
      ]
     },
     "execution_count": 8,
     "metadata": {},
     "output_type": "execute_result"
    }
   ],
   "source": [
    "df_test=pd.read_csv('C:/Users/Sushree Jena/Desktop/imarticus/machine learning/Kaggle/spaceship_titanic/test.csv')\n",
    "df_test.head()"
   ]
  },
  {
   "cell_type": "code",
   "execution_count": 9,
   "id": "a519b201",
   "metadata": {},
   "outputs": [
    {
     "data": {
      "text/plain": [
       "(4277, 13)"
      ]
     },
     "execution_count": 9,
     "metadata": {},
     "output_type": "execute_result"
    }
   ],
   "source": [
    "df_test.shape"
   ]
  },
  {
   "cell_type": "markdown",
   "id": "01ae131a",
   "metadata": {},
   "source": [
    "## 3.Exploratory Data Analysis"
   ]
  },
  {
   "cell_type": "markdown",
   "id": "e710ee2b",
   "metadata": {},
   "source": [
    "We will combine both train and test datasets for performing the EDA. While model building we can separate it."
   ]
  },
  {
   "cell_type": "code",
   "execution_count": 10,
   "id": "a2d8d605",
   "metadata": {},
   "outputs": [],
   "source": [
    "df_train['source']='train'\n",
    "df_test['source']='test'\n",
    "\n",
    "df_titanic=pd.concat([df_train,df_test],ignore_index=True)"
   ]
  },
  {
   "cell_type": "code",
   "execution_count": 11,
   "id": "cd88208a",
   "metadata": {},
   "outputs": [
    {
     "data": {
      "text/plain": [
       "(12970, 15)"
      ]
     },
     "execution_count": 11,
     "metadata": {},
     "output_type": "execute_result"
    }
   ],
   "source": [
    "df_titanic.shape"
   ]
  },
  {
   "cell_type": "code",
   "execution_count": 12,
   "id": "28bbe173",
   "metadata": {},
   "outputs": [
    {
     "name": "stdout",
     "output_type": "stream",
     "text": [
      "<class 'pandas.core.frame.DataFrame'>\n",
      "RangeIndex: 12970 entries, 0 to 12969\n",
      "Data columns (total 15 columns):\n",
      " #   Column        Non-Null Count  Dtype  \n",
      "---  ------        --------------  -----  \n",
      " 0   PassengerId   12970 non-null  object \n",
      " 1   HomePlanet    12682 non-null  object \n",
      " 2   CryoSleep     12660 non-null  object \n",
      " 3   Cabin         12671 non-null  object \n",
      " 4   Destination   12696 non-null  object \n",
      " 5   Age           12700 non-null  float64\n",
      " 6   VIP           12674 non-null  object \n",
      " 7   RoomService   12707 non-null  float64\n",
      " 8   FoodCourt     12681 non-null  float64\n",
      " 9   ShoppingMall  12664 non-null  float64\n",
      " 10  Spa           12686 non-null  float64\n",
      " 11  VRDeck        12702 non-null  float64\n",
      " 12  Name          12676 non-null  object \n",
      " 13  Transported   8693 non-null   object \n",
      " 14  source        12970 non-null  object \n",
      "dtypes: float64(6), object(9)\n",
      "memory usage: 1.5+ MB\n"
     ]
    }
   ],
   "source": [
    "df_titanic.info()"
   ]
  },
  {
   "cell_type": "code",
   "execution_count": 13,
   "id": "8cee059a",
   "metadata": {},
   "outputs": [
    {
     "data": {
      "text/html": [
       "<div>\n",
       "<style scoped>\n",
       "    .dataframe tbody tr th:only-of-type {\n",
       "        vertical-align: middle;\n",
       "    }\n",
       "\n",
       "    .dataframe tbody tr th {\n",
       "        vertical-align: top;\n",
       "    }\n",
       "\n",
       "    .dataframe thead th {\n",
       "        text-align: right;\n",
       "    }\n",
       "</style>\n",
       "<table border=\"1\" class=\"dataframe\">\n",
       "  <thead>\n",
       "    <tr style=\"text-align: right;\">\n",
       "      <th></th>\n",
       "      <th>Age</th>\n",
       "      <th>RoomService</th>\n",
       "      <th>FoodCourt</th>\n",
       "      <th>ShoppingMall</th>\n",
       "      <th>Spa</th>\n",
       "      <th>VRDeck</th>\n",
       "    </tr>\n",
       "  </thead>\n",
       "  <tbody>\n",
       "    <tr>\n",
       "      <th>count</th>\n",
       "      <td>12700.000000</td>\n",
       "      <td>12707.000000</td>\n",
       "      <td>12681.000000</td>\n",
       "      <td>12664.000000</td>\n",
       "      <td>12686.000000</td>\n",
       "      <td>12702.000000</td>\n",
       "    </tr>\n",
       "    <tr>\n",
       "      <th>mean</th>\n",
       "      <td>28.771969</td>\n",
       "      <td>222.897852</td>\n",
       "      <td>451.961675</td>\n",
       "      <td>174.906033</td>\n",
       "      <td>308.476904</td>\n",
       "      <td>306.789482</td>\n",
       "    </tr>\n",
       "    <tr>\n",
       "      <th>std</th>\n",
       "      <td>14.387261</td>\n",
       "      <td>647.596664</td>\n",
       "      <td>1584.370747</td>\n",
       "      <td>590.558690</td>\n",
       "      <td>1130.279641</td>\n",
       "      <td>1180.097223</td>\n",
       "    </tr>\n",
       "    <tr>\n",
       "      <th>min</th>\n",
       "      <td>0.000000</td>\n",
       "      <td>0.000000</td>\n",
       "      <td>0.000000</td>\n",
       "      <td>0.000000</td>\n",
       "      <td>0.000000</td>\n",
       "      <td>0.000000</td>\n",
       "    </tr>\n",
       "    <tr>\n",
       "      <th>25%</th>\n",
       "      <td>19.000000</td>\n",
       "      <td>0.000000</td>\n",
       "      <td>0.000000</td>\n",
       "      <td>0.000000</td>\n",
       "      <td>0.000000</td>\n",
       "      <td>0.000000</td>\n",
       "    </tr>\n",
       "    <tr>\n",
       "      <th>50%</th>\n",
       "      <td>27.000000</td>\n",
       "      <td>0.000000</td>\n",
       "      <td>0.000000</td>\n",
       "      <td>0.000000</td>\n",
       "      <td>0.000000</td>\n",
       "      <td>0.000000</td>\n",
       "    </tr>\n",
       "    <tr>\n",
       "      <th>75%</th>\n",
       "      <td>38.000000</td>\n",
       "      <td>49.000000</td>\n",
       "      <td>77.000000</td>\n",
       "      <td>29.000000</td>\n",
       "      <td>57.000000</td>\n",
       "      <td>42.000000</td>\n",
       "    </tr>\n",
       "    <tr>\n",
       "      <th>max</th>\n",
       "      <td>79.000000</td>\n",
       "      <td>14327.000000</td>\n",
       "      <td>29813.000000</td>\n",
       "      <td>23492.000000</td>\n",
       "      <td>22408.000000</td>\n",
       "      <td>24133.000000</td>\n",
       "    </tr>\n",
       "  </tbody>\n",
       "</table>\n",
       "</div>"
      ],
      "text/plain": [
       "                Age   RoomService     FoodCourt  ShoppingMall           Spa  \\\n",
       "count  12700.000000  12707.000000  12681.000000  12664.000000  12686.000000   \n",
       "mean      28.771969    222.897852    451.961675    174.906033    308.476904   \n",
       "std       14.387261    647.596664   1584.370747    590.558690   1130.279641   \n",
       "min        0.000000      0.000000      0.000000      0.000000      0.000000   \n",
       "25%       19.000000      0.000000      0.000000      0.000000      0.000000   \n",
       "50%       27.000000      0.000000      0.000000      0.000000      0.000000   \n",
       "75%       38.000000     49.000000     77.000000     29.000000     57.000000   \n",
       "max       79.000000  14327.000000  29813.000000  23492.000000  22408.000000   \n",
       "\n",
       "             VRDeck  \n",
       "count  12702.000000  \n",
       "mean     306.789482  \n",
       "std     1180.097223  \n",
       "min        0.000000  \n",
       "25%        0.000000  \n",
       "50%        0.000000  \n",
       "75%       42.000000  \n",
       "max    24133.000000  "
      ]
     },
     "execution_count": 13,
     "metadata": {},
     "output_type": "execute_result"
    }
   ],
   "source": [
    "df_titanic.describe()"
   ]
  },
  {
   "cell_type": "code",
   "execution_count": 14,
   "id": "81a5338b",
   "metadata": {},
   "outputs": [
    {
     "data": {
      "text/html": [
       "<div>\n",
       "<style scoped>\n",
       "    .dataframe tbody tr th:only-of-type {\n",
       "        vertical-align: middle;\n",
       "    }\n",
       "\n",
       "    .dataframe tbody tr th {\n",
       "        vertical-align: top;\n",
       "    }\n",
       "\n",
       "    .dataframe thead th {\n",
       "        text-align: right;\n",
       "    }\n",
       "</style>\n",
       "<table border=\"1\" class=\"dataframe\">\n",
       "  <thead>\n",
       "    <tr style=\"text-align: right;\">\n",
       "      <th></th>\n",
       "      <th>PassengerId</th>\n",
       "      <th>HomePlanet</th>\n",
       "      <th>CryoSleep</th>\n",
       "      <th>Cabin</th>\n",
       "      <th>Destination</th>\n",
       "      <th>VIP</th>\n",
       "      <th>Name</th>\n",
       "      <th>Transported</th>\n",
       "      <th>source</th>\n",
       "    </tr>\n",
       "  </thead>\n",
       "  <tbody>\n",
       "    <tr>\n",
       "      <th>count</th>\n",
       "      <td>12970</td>\n",
       "      <td>12682</td>\n",
       "      <td>12660</td>\n",
       "      <td>12671</td>\n",
       "      <td>12696</td>\n",
       "      <td>12674</td>\n",
       "      <td>12676</td>\n",
       "      <td>8693</td>\n",
       "      <td>12970</td>\n",
       "    </tr>\n",
       "    <tr>\n",
       "      <th>unique</th>\n",
       "      <td>12970</td>\n",
       "      <td>3</td>\n",
       "      <td>2</td>\n",
       "      <td>9825</td>\n",
       "      <td>3</td>\n",
       "      <td>2</td>\n",
       "      <td>12629</td>\n",
       "      <td>2</td>\n",
       "      <td>2</td>\n",
       "    </tr>\n",
       "    <tr>\n",
       "      <th>top</th>\n",
       "      <td>0001_01</td>\n",
       "      <td>Earth</td>\n",
       "      <td>False</td>\n",
       "      <td>G/734/S</td>\n",
       "      <td>TRAPPIST-1e</td>\n",
       "      <td>False</td>\n",
       "      <td>Carry Contrevins</td>\n",
       "      <td>True</td>\n",
       "      <td>train</td>\n",
       "    </tr>\n",
       "    <tr>\n",
       "      <th>freq</th>\n",
       "      <td>1</td>\n",
       "      <td>6865</td>\n",
       "      <td>8079</td>\n",
       "      <td>8</td>\n",
       "      <td>8871</td>\n",
       "      <td>12401</td>\n",
       "      <td>2</td>\n",
       "      <td>4378</td>\n",
       "      <td>8693</td>\n",
       "    </tr>\n",
       "  </tbody>\n",
       "</table>\n",
       "</div>"
      ],
      "text/plain": [
       "       PassengerId HomePlanet CryoSleep    Cabin  Destination    VIP  \\\n",
       "count        12970      12682     12660    12671        12696  12674   \n",
       "unique       12970          3         2     9825            3      2   \n",
       "top        0001_01      Earth     False  G/734/S  TRAPPIST-1e  False   \n",
       "freq             1       6865      8079        8         8871  12401   \n",
       "\n",
       "                    Name Transported source  \n",
       "count              12676        8693  12970  \n",
       "unique             12629           2      2  \n",
       "top     Carry Contrevins        True  train  \n",
       "freq                   2        4378   8693  "
      ]
     },
     "execution_count": 14,
     "metadata": {},
     "output_type": "execute_result"
    }
   ],
   "source": [
    "df_titanic.describe(include='object')"
   ]
  },
  {
   "cell_type": "code",
   "execution_count": 15,
   "id": "39c9fc61",
   "metadata": {},
   "outputs": [],
   "source": [
    "#Checking the target column for true and false cases"
   ]
  },
  {
   "cell_type": "code",
   "execution_count": 16,
   "id": "b4d9c3b8",
   "metadata": {},
   "outputs": [
    {
     "data": {
      "text/plain": [
       "True     4378\n",
       "False    4315\n",
       "Name: Transported, dtype: int64"
      ]
     },
     "execution_count": 16,
     "metadata": {},
     "output_type": "execute_result"
    }
   ],
   "source": [
    "df_titanic.Transported.value_counts()"
   ]
  },
  {
   "cell_type": "code",
   "execution_count": 17,
   "id": "18177a44",
   "metadata": {},
   "outputs": [
    {
     "data": {
      "text/plain": [
       "Index(['Age', 'RoomService', 'FoodCourt', 'ShoppingMall', 'Spa', 'VRDeck'], dtype='object')"
      ]
     },
     "execution_count": 17,
     "metadata": {},
     "output_type": "execute_result"
    }
   ],
   "source": [
    "num_features=df_titanic.select_dtypes(include=np.number)\n",
    "num_features.columns"
   ]
  },
  {
   "cell_type": "code",
   "execution_count": 18,
   "id": "24775a6d",
   "metadata": {},
   "outputs": [],
   "source": [
    "#We will convert the numerical columns into categorical by creating bins so that we can treat the outliers."
   ]
  },
  {
   "cell_type": "code",
   "execution_count": 19,
   "id": "9c989fab",
   "metadata": {},
   "outputs": [],
   "source": [
    "df_titanic['Age_cat']=pd.cut(df_titanic.Age,bins=[-1,30,60,80],labels=['young','middle','old'])"
   ]
  },
  {
   "cell_type": "code",
   "execution_count": 20,
   "id": "b07c285e",
   "metadata": {},
   "outputs": [
    {
     "data": {
      "text/plain": [
       "young     7658\n",
       "middle    4715\n",
       "old        327\n",
       "Name: Age_cat, dtype: int64"
      ]
     },
     "execution_count": 20,
     "metadata": {},
     "output_type": "execute_result"
    }
   ],
   "source": [
    "df_titanic.Age_cat.value_counts()"
   ]
  },
  {
   "cell_type": "code",
   "execution_count": 21,
   "id": "9920a5be",
   "metadata": {},
   "outputs": [],
   "source": [
    "df_titanic=df_titanic.drop('Age',axis=1)"
   ]
  },
  {
   "cell_type": "code",
   "execution_count": 22,
   "id": "0d22db41",
   "metadata": {},
   "outputs": [],
   "source": [
    "df_titanic['RoomService_cat']=pd.cut(df_titanic.RoomService,bins=[-1,0,1000,5000,14330],labels=['NoRoomService','Basic','Special','Premium'])"
   ]
  },
  {
   "cell_type": "code",
   "execution_count": 23,
   "id": "c90a46e0",
   "metadata": {},
   "outputs": [
    {
     "data": {
      "text/plain": [
       "NoRoomService    8303\n",
       "Basic            3488\n",
       "Special           880\n",
       "Premium            36\n",
       "Name: RoomService_cat, dtype: int64"
      ]
     },
     "execution_count": 23,
     "metadata": {},
     "output_type": "execute_result"
    }
   ],
   "source": [
    "df_titanic.RoomService_cat.value_counts()"
   ]
  },
  {
   "cell_type": "code",
   "execution_count": 24,
   "id": "754214d7",
   "metadata": {},
   "outputs": [],
   "source": [
    "df_titanic['FoodCourt_cat']=pd.cut(df_titanic.FoodCourt,bins=[-1,0,5000,30000],labels=['health_freak','health_conscious','foodie'])"
   ]
  },
  {
   "cell_type": "code",
   "execution_count": 25,
   "id": "86fc512a",
   "metadata": {},
   "outputs": [
    {
     "data": {
      "text/plain": [
       "health_freak        8146\n",
       "health_conscious    4263\n",
       "foodie               272\n",
       "Name: FoodCourt_cat, dtype: int64"
      ]
     },
     "execution_count": 25,
     "metadata": {},
     "output_type": "execute_result"
    }
   ],
   "source": [
    "df_titanic.FoodCourt_cat.value_counts()"
   ]
  },
  {
   "cell_type": "code",
   "execution_count": 26,
   "id": "156022a1",
   "metadata": {},
   "outputs": [],
   "source": [
    "df_titanic['ShoppingMall_cat']=pd.cut(df_titanic.ShoppingMall,bins=[-1,0,4000,25000],labels=['thrift','mredium','enthusiast'])"
   ]
  },
  {
   "cell_type": "code",
   "execution_count": 27,
   "id": "8175a057",
   "metadata": {},
   "outputs": [
    {
     "data": {
      "text/plain": [
       "thrift        8331\n",
       "mredium       4287\n",
       "enthusiast      46\n",
       "Name: ShoppingMall_cat, dtype: int64"
      ]
     },
     "execution_count": 27,
     "metadata": {},
     "output_type": "execute_result"
    }
   ],
   "source": [
    "df_titanic.ShoppingMall_cat.value_counts()"
   ]
  },
  {
   "cell_type": "code",
   "execution_count": 28,
   "id": "04f86370",
   "metadata": {},
   "outputs": [],
   "source": [
    "df_titanic['Spa_cat']=pd.cut(df_titanic.Spa,bins=[-1,0,8000,25000],labels=['low_spend','medium_spend','high_spend'])"
   ]
  },
  {
   "cell_type": "code",
   "execution_count": 29,
   "id": "194260d2",
   "metadata": {},
   "outputs": [
    {
     "data": {
      "text/plain": [
       "low_spend       7935\n",
       "medium_spend    4692\n",
       "high_spend        59\n",
       "Name: Spa_cat, dtype: int64"
      ]
     },
     "execution_count": 29,
     "metadata": {},
     "output_type": "execute_result"
    }
   ],
   "source": [
    "df_titanic.Spa_cat.value_counts()"
   ]
  },
  {
   "cell_type": "code",
   "execution_count": 30,
   "id": "0f6681f9",
   "metadata": {},
   "outputs": [],
   "source": [
    "df_titanic['VRDeck_cat']=pd.cut(df_titanic.VRDeck,bins=[-1,0,6000,25000],labels=['low','medium','high'])"
   ]
  },
  {
   "cell_type": "code",
   "execution_count": 31,
   "id": "22ceddc7",
   "metadata": {},
   "outputs": [
    {
     "data": {
      "text/plain": [
       "low       8252\n",
       "medium    4329\n",
       "high       121\n",
       "Name: VRDeck_cat, dtype: int64"
      ]
     },
     "execution_count": 31,
     "metadata": {},
     "output_type": "execute_result"
    }
   ],
   "source": [
    "df_titanic.VRDeck_cat.value_counts()"
   ]
  },
  {
   "cell_type": "code",
   "execution_count": 32,
   "id": "af0c9668",
   "metadata": {},
   "outputs": [],
   "source": [
    "#We will drop the numerical columns which we would not require for our model building"
   ]
  },
  {
   "cell_type": "code",
   "execution_count": 33,
   "id": "37649b65",
   "metadata": {},
   "outputs": [],
   "source": [
    "df_titanic=df_titanic.drop(['RoomService', 'FoodCourt', 'ShoppingMall', 'Spa', 'VRDeck'],axis=1)"
   ]
  },
  {
   "cell_type": "code",
   "execution_count": 34,
   "id": "97c8ac55",
   "metadata": {},
   "outputs": [
    {
     "data": {
      "text/html": [
       "<div>\n",
       "<style scoped>\n",
       "    .dataframe tbody tr th:only-of-type {\n",
       "        vertical-align: middle;\n",
       "    }\n",
       "\n",
       "    .dataframe tbody tr th {\n",
       "        vertical-align: top;\n",
       "    }\n",
       "\n",
       "    .dataframe thead th {\n",
       "        text-align: right;\n",
       "    }\n",
       "</style>\n",
       "<table border=\"1\" class=\"dataframe\">\n",
       "  <thead>\n",
       "    <tr style=\"text-align: right;\">\n",
       "      <th></th>\n",
       "      <th>PassengerId</th>\n",
       "      <th>HomePlanet</th>\n",
       "      <th>CryoSleep</th>\n",
       "      <th>Cabin</th>\n",
       "      <th>Destination</th>\n",
       "      <th>VIP</th>\n",
       "      <th>Name</th>\n",
       "      <th>Transported</th>\n",
       "      <th>source</th>\n",
       "      <th>Age_cat</th>\n",
       "      <th>RoomService_cat</th>\n",
       "      <th>FoodCourt_cat</th>\n",
       "      <th>ShoppingMall_cat</th>\n",
       "      <th>Spa_cat</th>\n",
       "      <th>VRDeck_cat</th>\n",
       "    </tr>\n",
       "  </thead>\n",
       "  <tbody>\n",
       "    <tr>\n",
       "      <th>0</th>\n",
       "      <td>0001_01</td>\n",
       "      <td>Europa</td>\n",
       "      <td>False</td>\n",
       "      <td>B/0/P</td>\n",
       "      <td>TRAPPIST-1e</td>\n",
       "      <td>False</td>\n",
       "      <td>Maham Ofracculy</td>\n",
       "      <td>False</td>\n",
       "      <td>train</td>\n",
       "      <td>middle</td>\n",
       "      <td>NoRoomService</td>\n",
       "      <td>health_freak</td>\n",
       "      <td>thrift</td>\n",
       "      <td>low_spend</td>\n",
       "      <td>low</td>\n",
       "    </tr>\n",
       "    <tr>\n",
       "      <th>1</th>\n",
       "      <td>0002_01</td>\n",
       "      <td>Earth</td>\n",
       "      <td>False</td>\n",
       "      <td>F/0/S</td>\n",
       "      <td>TRAPPIST-1e</td>\n",
       "      <td>False</td>\n",
       "      <td>Juanna Vines</td>\n",
       "      <td>True</td>\n",
       "      <td>train</td>\n",
       "      <td>young</td>\n",
       "      <td>Basic</td>\n",
       "      <td>health_conscious</td>\n",
       "      <td>mredium</td>\n",
       "      <td>medium_spend</td>\n",
       "      <td>medium</td>\n",
       "    </tr>\n",
       "    <tr>\n",
       "      <th>2</th>\n",
       "      <td>0003_01</td>\n",
       "      <td>Europa</td>\n",
       "      <td>False</td>\n",
       "      <td>A/0/S</td>\n",
       "      <td>TRAPPIST-1e</td>\n",
       "      <td>True</td>\n",
       "      <td>Altark Susent</td>\n",
       "      <td>False</td>\n",
       "      <td>train</td>\n",
       "      <td>middle</td>\n",
       "      <td>Basic</td>\n",
       "      <td>health_conscious</td>\n",
       "      <td>thrift</td>\n",
       "      <td>medium_spend</td>\n",
       "      <td>medium</td>\n",
       "    </tr>\n",
       "    <tr>\n",
       "      <th>3</th>\n",
       "      <td>0003_02</td>\n",
       "      <td>Europa</td>\n",
       "      <td>False</td>\n",
       "      <td>A/0/S</td>\n",
       "      <td>TRAPPIST-1e</td>\n",
       "      <td>False</td>\n",
       "      <td>Solam Susent</td>\n",
       "      <td>False</td>\n",
       "      <td>train</td>\n",
       "      <td>middle</td>\n",
       "      <td>NoRoomService</td>\n",
       "      <td>health_conscious</td>\n",
       "      <td>mredium</td>\n",
       "      <td>medium_spend</td>\n",
       "      <td>medium</td>\n",
       "    </tr>\n",
       "    <tr>\n",
       "      <th>4</th>\n",
       "      <td>0004_01</td>\n",
       "      <td>Earth</td>\n",
       "      <td>False</td>\n",
       "      <td>F/1/S</td>\n",
       "      <td>TRAPPIST-1e</td>\n",
       "      <td>False</td>\n",
       "      <td>Willy Santantines</td>\n",
       "      <td>True</td>\n",
       "      <td>train</td>\n",
       "      <td>young</td>\n",
       "      <td>Basic</td>\n",
       "      <td>health_conscious</td>\n",
       "      <td>mredium</td>\n",
       "      <td>medium_spend</td>\n",
       "      <td>medium</td>\n",
       "    </tr>\n",
       "  </tbody>\n",
       "</table>\n",
       "</div>"
      ],
      "text/plain": [
       "  PassengerId HomePlanet CryoSleep  Cabin  Destination    VIP  \\\n",
       "0     0001_01     Europa     False  B/0/P  TRAPPIST-1e  False   \n",
       "1     0002_01      Earth     False  F/0/S  TRAPPIST-1e  False   \n",
       "2     0003_01     Europa     False  A/0/S  TRAPPIST-1e   True   \n",
       "3     0003_02     Europa     False  A/0/S  TRAPPIST-1e  False   \n",
       "4     0004_01      Earth     False  F/1/S  TRAPPIST-1e  False   \n",
       "\n",
       "                Name Transported source Age_cat RoomService_cat  \\\n",
       "0    Maham Ofracculy       False  train  middle   NoRoomService   \n",
       "1       Juanna Vines        True  train   young           Basic   \n",
       "2      Altark Susent       False  train  middle           Basic   \n",
       "3       Solam Susent       False  train  middle   NoRoomService   \n",
       "4  Willy Santantines        True  train   young           Basic   \n",
       "\n",
       "      FoodCourt_cat ShoppingMall_cat       Spa_cat VRDeck_cat  \n",
       "0      health_freak           thrift     low_spend        low  \n",
       "1  health_conscious          mredium  medium_spend     medium  \n",
       "2  health_conscious           thrift  medium_spend     medium  \n",
       "3  health_conscious          mredium  medium_spend     medium  \n",
       "4  health_conscious          mredium  medium_spend     medium  "
      ]
     },
     "execution_count": 34,
     "metadata": {},
     "output_type": "execute_result"
    }
   ],
   "source": [
    "df_titanic.head()"
   ]
  },
  {
   "cell_type": "code",
   "execution_count": 35,
   "id": "81ea064f",
   "metadata": {},
   "outputs": [],
   "source": [
    "#We will set the categorical columns as object columns.\n",
    "\n",
    "cols=['Age_cat','RoomService_cat','FoodCourt_cat','ShoppingMall_cat','Spa_cat','VRDeck_cat']\n",
    "\n",
    "for col in cols:\n",
    "    df_titanic[col]=df_titanic[col].astype('object')"
   ]
  },
  {
   "cell_type": "code",
   "execution_count": 36,
   "id": "31d8ce9c",
   "metadata": {},
   "outputs": [],
   "source": [
    "#Finding the Missing Values and Treating them"
   ]
  },
  {
   "cell_type": "code",
   "execution_count": 37,
   "id": "5b152c69",
   "metadata": {},
   "outputs": [
    {
     "data": {
      "text/plain": [
       "PassengerId            0\n",
       "HomePlanet           288\n",
       "CryoSleep            310\n",
       "Cabin                299\n",
       "Destination          274\n",
       "VIP                  296\n",
       "Name                 294\n",
       "Transported         4277\n",
       "source                 0\n",
       "Age_cat              270\n",
       "RoomService_cat      263\n",
       "FoodCourt_cat        289\n",
       "ShoppingMall_cat     306\n",
       "Spa_cat              284\n",
       "VRDeck_cat           268\n",
       "dtype: int64"
      ]
     },
     "execution_count": 37,
     "metadata": {},
     "output_type": "execute_result"
    }
   ],
   "source": [
    "df_titanic.isnull().sum()"
   ]
  },
  {
   "cell_type": "code",
   "execution_count": 38,
   "id": "c5f398ac",
   "metadata": {},
   "outputs": [],
   "source": [
    "#Since we have all our features as categorical data, we can replace the missing values by mode of the respective feature"
   ]
  },
  {
   "cell_type": "code",
   "execution_count": 39,
   "id": "d489bca8",
   "metadata": {},
   "outputs": [],
   "source": [
    "cols=['HomePlanet','CryoSleep','Cabin','Destination','VIP','Age_cat','RoomService_cat','FoodCourt_cat','ShoppingMall_cat','Spa_cat','VRDeck_cat']\n",
    "\n",
    "for col in cols:\n",
    "    df_titanic[col]=df_titanic[col].fillna(df_titanic[col].mode()[0])"
   ]
  },
  {
   "cell_type": "code",
   "execution_count": 40,
   "id": "ef1018bd",
   "metadata": {},
   "outputs": [],
   "source": [
    "#we will drop the Name column since we donot require it for model building\n",
    "\n",
    "df_titanic=df_titanic.drop(['Name','Cabin'],axis=1)"
   ]
  },
  {
   "cell_type": "code",
   "execution_count": 45,
   "id": "511cc6db",
   "metadata": {},
   "outputs": [
    {
     "name": "stdout",
     "output_type": "stream",
     "text": [
      "<class 'pandas.core.frame.DataFrame'>\n",
      "RangeIndex: 12970 entries, 0 to 12969\n",
      "Data columns (total 13 columns):\n",
      " #   Column            Non-Null Count  Dtype \n",
      "---  ------            --------------  ----- \n",
      " 0   PassengerId       12970 non-null  object\n",
      " 1   HomePlanet        12970 non-null  object\n",
      " 2   CryoSleep         12970 non-null  object\n",
      " 3   Destination       12970 non-null  object\n",
      " 4   VIP               12970 non-null  object\n",
      " 5   Transported       12970 non-null  bool  \n",
      " 6   source            12970 non-null  object\n",
      " 7   Age_cat           12970 non-null  object\n",
      " 8   RoomService_cat   12970 non-null  object\n",
      " 9   FoodCourt_cat     12970 non-null  object\n",
      " 10  ShoppingMall_cat  12970 non-null  object\n",
      " 11  Spa_cat           12970 non-null  object\n",
      " 12  VRDeck_cat        12970 non-null  object\n",
      "dtypes: bool(1), object(12)\n",
      "memory usage: 1.2+ MB\n"
     ]
    }
   ],
   "source": [
    "df_titanic.info()"
   ]
  },
  {
   "cell_type": "code",
   "execution_count": 42,
   "id": "82adaafa",
   "metadata": {},
   "outputs": [],
   "source": [
    "df_titanic['CryoSleep']=df_titanic['CryoSleep'].astype('object')\n",
    "df_titanic['VIP']=df_titanic['VIP'].astype('object')"
   ]
  },
  {
   "cell_type": "code",
   "execution_count": 43,
   "id": "7649f0ae",
   "metadata": {},
   "outputs": [],
   "source": [
    "#Level Encoding of Target Variable"
   ]
  },
  {
   "cell_type": "code",
   "execution_count": 44,
   "id": "a81d9e8c",
   "metadata": {},
   "outputs": [],
   "source": [
    "df_titanic['Transported']=df_titanic['Transported'].astype('bool')"
   ]
  },
  {
   "cell_type": "code",
   "execution_count": 46,
   "id": "3bee7e83",
   "metadata": {},
   "outputs": [
    {
     "data": {
      "text/plain": [
       "True     8655\n",
       "False    4315\n",
       "Name: Transported, dtype: int64"
      ]
     },
     "execution_count": 46,
     "metadata": {},
     "output_type": "execute_result"
    }
   ],
   "source": [
    "df_titanic.Transported.value_counts()"
   ]
  },
  {
   "cell_type": "code",
   "execution_count": 47,
   "id": "c69362f4",
   "metadata": {},
   "outputs": [],
   "source": [
    "df_titanic['Transported']=df_titanic.Transported.map({True:1,False:0})"
   ]
  },
  {
   "cell_type": "code",
   "execution_count": 48,
   "id": "6f278cbf",
   "metadata": {},
   "outputs": [
    {
     "data": {
      "text/html": [
       "<div>\n",
       "<style scoped>\n",
       "    .dataframe tbody tr th:only-of-type {\n",
       "        vertical-align: middle;\n",
       "    }\n",
       "\n",
       "    .dataframe tbody tr th {\n",
       "        vertical-align: top;\n",
       "    }\n",
       "\n",
       "    .dataframe thead th {\n",
       "        text-align: right;\n",
       "    }\n",
       "</style>\n",
       "<table border=\"1\" class=\"dataframe\">\n",
       "  <thead>\n",
       "    <tr style=\"text-align: right;\">\n",
       "      <th></th>\n",
       "      <th>PassengerId</th>\n",
       "      <th>HomePlanet</th>\n",
       "      <th>CryoSleep</th>\n",
       "      <th>Destination</th>\n",
       "      <th>VIP</th>\n",
       "      <th>Transported</th>\n",
       "      <th>source</th>\n",
       "      <th>Age_cat</th>\n",
       "      <th>RoomService_cat</th>\n",
       "      <th>FoodCourt_cat</th>\n",
       "      <th>ShoppingMall_cat</th>\n",
       "      <th>Spa_cat</th>\n",
       "      <th>VRDeck_cat</th>\n",
       "    </tr>\n",
       "  </thead>\n",
       "  <tbody>\n",
       "    <tr>\n",
       "      <th>0</th>\n",
       "      <td>0001_01</td>\n",
       "      <td>Europa</td>\n",
       "      <td>False</td>\n",
       "      <td>TRAPPIST-1e</td>\n",
       "      <td>False</td>\n",
       "      <td>0</td>\n",
       "      <td>train</td>\n",
       "      <td>middle</td>\n",
       "      <td>NoRoomService</td>\n",
       "      <td>health_freak</td>\n",
       "      <td>thrift</td>\n",
       "      <td>low_spend</td>\n",
       "      <td>low</td>\n",
       "    </tr>\n",
       "    <tr>\n",
       "      <th>1</th>\n",
       "      <td>0002_01</td>\n",
       "      <td>Earth</td>\n",
       "      <td>False</td>\n",
       "      <td>TRAPPIST-1e</td>\n",
       "      <td>False</td>\n",
       "      <td>1</td>\n",
       "      <td>train</td>\n",
       "      <td>young</td>\n",
       "      <td>Basic</td>\n",
       "      <td>health_conscious</td>\n",
       "      <td>mredium</td>\n",
       "      <td>medium_spend</td>\n",
       "      <td>medium</td>\n",
       "    </tr>\n",
       "    <tr>\n",
       "      <th>2</th>\n",
       "      <td>0003_01</td>\n",
       "      <td>Europa</td>\n",
       "      <td>False</td>\n",
       "      <td>TRAPPIST-1e</td>\n",
       "      <td>True</td>\n",
       "      <td>0</td>\n",
       "      <td>train</td>\n",
       "      <td>middle</td>\n",
       "      <td>Basic</td>\n",
       "      <td>health_conscious</td>\n",
       "      <td>thrift</td>\n",
       "      <td>medium_spend</td>\n",
       "      <td>medium</td>\n",
       "    </tr>\n",
       "    <tr>\n",
       "      <th>3</th>\n",
       "      <td>0003_02</td>\n",
       "      <td>Europa</td>\n",
       "      <td>False</td>\n",
       "      <td>TRAPPIST-1e</td>\n",
       "      <td>False</td>\n",
       "      <td>0</td>\n",
       "      <td>train</td>\n",
       "      <td>middle</td>\n",
       "      <td>NoRoomService</td>\n",
       "      <td>health_conscious</td>\n",
       "      <td>mredium</td>\n",
       "      <td>medium_spend</td>\n",
       "      <td>medium</td>\n",
       "    </tr>\n",
       "    <tr>\n",
       "      <th>4</th>\n",
       "      <td>0004_01</td>\n",
       "      <td>Earth</td>\n",
       "      <td>False</td>\n",
       "      <td>TRAPPIST-1e</td>\n",
       "      <td>False</td>\n",
       "      <td>1</td>\n",
       "      <td>train</td>\n",
       "      <td>young</td>\n",
       "      <td>Basic</td>\n",
       "      <td>health_conscious</td>\n",
       "      <td>mredium</td>\n",
       "      <td>medium_spend</td>\n",
       "      <td>medium</td>\n",
       "    </tr>\n",
       "  </tbody>\n",
       "</table>\n",
       "</div>"
      ],
      "text/plain": [
       "  PassengerId HomePlanet CryoSleep  Destination    VIP  Transported source  \\\n",
       "0     0001_01     Europa     False  TRAPPIST-1e  False            0  train   \n",
       "1     0002_01      Earth     False  TRAPPIST-1e  False            1  train   \n",
       "2     0003_01     Europa     False  TRAPPIST-1e   True            0  train   \n",
       "3     0003_02     Europa     False  TRAPPIST-1e  False            0  train   \n",
       "4     0004_01      Earth     False  TRAPPIST-1e  False            1  train   \n",
       "\n",
       "  Age_cat RoomService_cat     FoodCourt_cat ShoppingMall_cat       Spa_cat  \\\n",
       "0  middle   NoRoomService      health_freak           thrift     low_spend   \n",
       "1   young           Basic  health_conscious          mredium  medium_spend   \n",
       "2  middle           Basic  health_conscious           thrift  medium_spend   \n",
       "3  middle   NoRoomService  health_conscious          mredium  medium_spend   \n",
       "4   young           Basic  health_conscious          mredium  medium_spend   \n",
       "\n",
       "  VRDeck_cat  \n",
       "0        low  \n",
       "1     medium  \n",
       "2     medium  \n",
       "3     medium  \n",
       "4     medium  "
      ]
     },
     "execution_count": 48,
     "metadata": {},
     "output_type": "execute_result"
    }
   ],
   "source": [
    "df_titanic.head()"
   ]
  },
  {
   "cell_type": "code",
   "execution_count": 76,
   "id": "b0a5e2d3",
   "metadata": {},
   "outputs": [],
   "source": [
    "df_titanic['Transported']=df_titanic['Transported'].astype('bool')"
   ]
  },
  {
   "cell_type": "code",
   "execution_count": 77,
   "id": "9433e381",
   "metadata": {},
   "outputs": [
    {
     "name": "stdout",
     "output_type": "stream",
     "text": [
      "<class 'pandas.core.frame.DataFrame'>\n",
      "RangeIndex: 12970 entries, 0 to 12969\n",
      "Data columns (total 13 columns):\n",
      " #   Column            Non-Null Count  Dtype \n",
      "---  ------            --------------  ----- \n",
      " 0   PassengerId       12970 non-null  object\n",
      " 1   HomePlanet        12970 non-null  object\n",
      " 2   CryoSleep         12970 non-null  object\n",
      " 3   Destination       12970 non-null  object\n",
      " 4   VIP               12970 non-null  object\n",
      " 5   Transported       12970 non-null  bool  \n",
      " 6   source            12970 non-null  object\n",
      " 7   Age_cat           12970 non-null  object\n",
      " 8   RoomService_cat   12970 non-null  object\n",
      " 9   FoodCourt_cat     12970 non-null  object\n",
      " 10  ShoppingMall_cat  12970 non-null  object\n",
      " 11  Spa_cat           12970 non-null  object\n",
      " 12  VRDeck_cat        12970 non-null  object\n",
      "dtypes: bool(1), object(12)\n",
      "memory usage: 1.2+ MB\n"
     ]
    }
   ],
   "source": [
    "df_titanic.info()"
   ]
  },
  {
   "cell_type": "code",
   "execution_count": 78,
   "id": "2dd1272f",
   "metadata": {},
   "outputs": [],
   "source": [
    "df_titanic1=df_titanic.copy(deep=True)"
   ]
  },
  {
   "cell_type": "code",
   "execution_count": 79,
   "id": "4e353fd8",
   "metadata": {},
   "outputs": [],
   "source": [
    "#One Hot Encoding for other Independent Variables"
   ]
  },
  {
   "cell_type": "markdown",
   "id": "0d152ae6",
   "metadata": {},
   "source": [
    "## 4.Separating the train and test set"
   ]
  },
  {
   "cell_type": "code",
   "execution_count": 80,
   "id": "ec2a66c7",
   "metadata": {},
   "outputs": [],
   "source": [
    "df_train=df_titanic1.loc[df_titanic1['source']=='train']\n",
    "df_test=df_titanic1.loc[df_titanic1['source']=='test']"
   ]
  },
  {
   "cell_type": "code",
   "execution_count": 81,
   "id": "b825446f",
   "metadata": {},
   "outputs": [
    {
     "data": {
      "text/html": [
       "<div>\n",
       "<style scoped>\n",
       "    .dataframe tbody tr th:only-of-type {\n",
       "        vertical-align: middle;\n",
       "    }\n",
       "\n",
       "    .dataframe tbody tr th {\n",
       "        vertical-align: top;\n",
       "    }\n",
       "\n",
       "    .dataframe thead th {\n",
       "        text-align: right;\n",
       "    }\n",
       "</style>\n",
       "<table border=\"1\" class=\"dataframe\">\n",
       "  <thead>\n",
       "    <tr style=\"text-align: right;\">\n",
       "      <th></th>\n",
       "      <th>PassengerId</th>\n",
       "      <th>HomePlanet</th>\n",
       "      <th>CryoSleep</th>\n",
       "      <th>Destination</th>\n",
       "      <th>VIP</th>\n",
       "      <th>Transported</th>\n",
       "      <th>source</th>\n",
       "      <th>Age_cat</th>\n",
       "      <th>RoomService_cat</th>\n",
       "      <th>FoodCourt_cat</th>\n",
       "      <th>ShoppingMall_cat</th>\n",
       "      <th>Spa_cat</th>\n",
       "      <th>VRDeck_cat</th>\n",
       "    </tr>\n",
       "  </thead>\n",
       "  <tbody>\n",
       "    <tr>\n",
       "      <th>8693</th>\n",
       "      <td>0013_01</td>\n",
       "      <td>Earth</td>\n",
       "      <td>True</td>\n",
       "      <td>TRAPPIST-1e</td>\n",
       "      <td>False</td>\n",
       "      <td>True</td>\n",
       "      <td>test</td>\n",
       "      <td>young</td>\n",
       "      <td>NoRoomService</td>\n",
       "      <td>health_freak</td>\n",
       "      <td>thrift</td>\n",
       "      <td>low_spend</td>\n",
       "      <td>low</td>\n",
       "    </tr>\n",
       "    <tr>\n",
       "      <th>8694</th>\n",
       "      <td>0018_01</td>\n",
       "      <td>Earth</td>\n",
       "      <td>False</td>\n",
       "      <td>TRAPPIST-1e</td>\n",
       "      <td>False</td>\n",
       "      <td>True</td>\n",
       "      <td>test</td>\n",
       "      <td>young</td>\n",
       "      <td>NoRoomService</td>\n",
       "      <td>health_conscious</td>\n",
       "      <td>thrift</td>\n",
       "      <td>medium_spend</td>\n",
       "      <td>low</td>\n",
       "    </tr>\n",
       "    <tr>\n",
       "      <th>8695</th>\n",
       "      <td>0019_01</td>\n",
       "      <td>Europa</td>\n",
       "      <td>True</td>\n",
       "      <td>55 Cancri e</td>\n",
       "      <td>False</td>\n",
       "      <td>True</td>\n",
       "      <td>test</td>\n",
       "      <td>middle</td>\n",
       "      <td>NoRoomService</td>\n",
       "      <td>health_freak</td>\n",
       "      <td>thrift</td>\n",
       "      <td>low_spend</td>\n",
       "      <td>low</td>\n",
       "    </tr>\n",
       "    <tr>\n",
       "      <th>8696</th>\n",
       "      <td>0021_01</td>\n",
       "      <td>Europa</td>\n",
       "      <td>False</td>\n",
       "      <td>TRAPPIST-1e</td>\n",
       "      <td>False</td>\n",
       "      <td>True</td>\n",
       "      <td>test</td>\n",
       "      <td>middle</td>\n",
       "      <td>NoRoomService</td>\n",
       "      <td>foodie</td>\n",
       "      <td>thrift</td>\n",
       "      <td>medium_spend</td>\n",
       "      <td>medium</td>\n",
       "    </tr>\n",
       "    <tr>\n",
       "      <th>8697</th>\n",
       "      <td>0023_01</td>\n",
       "      <td>Earth</td>\n",
       "      <td>False</td>\n",
       "      <td>TRAPPIST-1e</td>\n",
       "      <td>False</td>\n",
       "      <td>True</td>\n",
       "      <td>test</td>\n",
       "      <td>young</td>\n",
       "      <td>Basic</td>\n",
       "      <td>health_freak</td>\n",
       "      <td>mredium</td>\n",
       "      <td>low_spend</td>\n",
       "      <td>low</td>\n",
       "    </tr>\n",
       "    <tr>\n",
       "      <th>...</th>\n",
       "      <td>...</td>\n",
       "      <td>...</td>\n",
       "      <td>...</td>\n",
       "      <td>...</td>\n",
       "      <td>...</td>\n",
       "      <td>...</td>\n",
       "      <td>...</td>\n",
       "      <td>...</td>\n",
       "      <td>...</td>\n",
       "      <td>...</td>\n",
       "      <td>...</td>\n",
       "      <td>...</td>\n",
       "      <td>...</td>\n",
       "    </tr>\n",
       "    <tr>\n",
       "      <th>12965</th>\n",
       "      <td>9266_02</td>\n",
       "      <td>Earth</td>\n",
       "      <td>True</td>\n",
       "      <td>TRAPPIST-1e</td>\n",
       "      <td>False</td>\n",
       "      <td>True</td>\n",
       "      <td>test</td>\n",
       "      <td>middle</td>\n",
       "      <td>NoRoomService</td>\n",
       "      <td>health_freak</td>\n",
       "      <td>thrift</td>\n",
       "      <td>low_spend</td>\n",
       "      <td>low</td>\n",
       "    </tr>\n",
       "    <tr>\n",
       "      <th>12966</th>\n",
       "      <td>9269_01</td>\n",
       "      <td>Earth</td>\n",
       "      <td>False</td>\n",
       "      <td>TRAPPIST-1e</td>\n",
       "      <td>False</td>\n",
       "      <td>True</td>\n",
       "      <td>test</td>\n",
       "      <td>middle</td>\n",
       "      <td>NoRoomService</td>\n",
       "      <td>health_conscious</td>\n",
       "      <td>mredium</td>\n",
       "      <td>medium_spend</td>\n",
       "      <td>medium</td>\n",
       "    </tr>\n",
       "    <tr>\n",
       "      <th>12967</th>\n",
       "      <td>9271_01</td>\n",
       "      <td>Mars</td>\n",
       "      <td>True</td>\n",
       "      <td>55 Cancri e</td>\n",
       "      <td>False</td>\n",
       "      <td>True</td>\n",
       "      <td>test</td>\n",
       "      <td>young</td>\n",
       "      <td>NoRoomService</td>\n",
       "      <td>health_freak</td>\n",
       "      <td>thrift</td>\n",
       "      <td>low_spend</td>\n",
       "      <td>low</td>\n",
       "    </tr>\n",
       "    <tr>\n",
       "      <th>12968</th>\n",
       "      <td>9273_01</td>\n",
       "      <td>Europa</td>\n",
       "      <td>False</td>\n",
       "      <td>TRAPPIST-1e</td>\n",
       "      <td>False</td>\n",
       "      <td>True</td>\n",
       "      <td>test</td>\n",
       "      <td>young</td>\n",
       "      <td>NoRoomService</td>\n",
       "      <td>health_conscious</td>\n",
       "      <td>thrift</td>\n",
       "      <td>low_spend</td>\n",
       "      <td>medium</td>\n",
       "    </tr>\n",
       "    <tr>\n",
       "      <th>12969</th>\n",
       "      <td>9277_01</td>\n",
       "      <td>Earth</td>\n",
       "      <td>True</td>\n",
       "      <td>PSO J318.5-22</td>\n",
       "      <td>False</td>\n",
       "      <td>True</td>\n",
       "      <td>test</td>\n",
       "      <td>middle</td>\n",
       "      <td>NoRoomService</td>\n",
       "      <td>health_freak</td>\n",
       "      <td>thrift</td>\n",
       "      <td>low_spend</td>\n",
       "      <td>low</td>\n",
       "    </tr>\n",
       "  </tbody>\n",
       "</table>\n",
       "<p>4277 rows × 13 columns</p>\n",
       "</div>"
      ],
      "text/plain": [
       "      PassengerId HomePlanet CryoSleep    Destination    VIP  Transported  \\\n",
       "8693      0013_01      Earth      True    TRAPPIST-1e  False         True   \n",
       "8694      0018_01      Earth     False    TRAPPIST-1e  False         True   \n",
       "8695      0019_01     Europa      True    55 Cancri e  False         True   \n",
       "8696      0021_01     Europa     False    TRAPPIST-1e  False         True   \n",
       "8697      0023_01      Earth     False    TRAPPIST-1e  False         True   \n",
       "...           ...        ...       ...            ...    ...          ...   \n",
       "12965     9266_02      Earth      True    TRAPPIST-1e  False         True   \n",
       "12966     9269_01      Earth     False    TRAPPIST-1e  False         True   \n",
       "12967     9271_01       Mars      True    55 Cancri e  False         True   \n",
       "12968     9273_01     Europa     False    TRAPPIST-1e  False         True   \n",
       "12969     9277_01      Earth      True  PSO J318.5-22  False         True   \n",
       "\n",
       "      source Age_cat RoomService_cat     FoodCourt_cat ShoppingMall_cat  \\\n",
       "8693    test   young   NoRoomService      health_freak           thrift   \n",
       "8694    test   young   NoRoomService  health_conscious           thrift   \n",
       "8695    test  middle   NoRoomService      health_freak           thrift   \n",
       "8696    test  middle   NoRoomService            foodie           thrift   \n",
       "8697    test   young           Basic      health_freak          mredium   \n",
       "...      ...     ...             ...               ...              ...   \n",
       "12965   test  middle   NoRoomService      health_freak           thrift   \n",
       "12966   test  middle   NoRoomService  health_conscious          mredium   \n",
       "12967   test   young   NoRoomService      health_freak           thrift   \n",
       "12968   test   young   NoRoomService  health_conscious           thrift   \n",
       "12969   test  middle   NoRoomService      health_freak           thrift   \n",
       "\n",
       "            Spa_cat VRDeck_cat  \n",
       "8693      low_spend        low  \n",
       "8694   medium_spend        low  \n",
       "8695      low_spend        low  \n",
       "8696   medium_spend     medium  \n",
       "8697      low_spend        low  \n",
       "...             ...        ...  \n",
       "12965     low_spend        low  \n",
       "12966  medium_spend     medium  \n",
       "12967     low_spend        low  \n",
       "12968     low_spend     medium  \n",
       "12969     low_spend        low  \n",
       "\n",
       "[4277 rows x 13 columns]"
      ]
     },
     "execution_count": 81,
     "metadata": {},
     "output_type": "execute_result"
    }
   ],
   "source": [
    "df_test"
   ]
  },
  {
   "cell_type": "code",
   "execution_count": 82,
   "id": "cb0d3ffe",
   "metadata": {},
   "outputs": [],
   "source": [
    "df_train1=df_train.drop(['source','PassengerId'],axis=1)\n",
    "df_test1=df_test.drop(['source','Transported','PassengerId'],axis=1)"
   ]
  },
  {
   "cell_type": "code",
   "execution_count": 83,
   "id": "f46c4900",
   "metadata": {},
   "outputs": [
    {
     "data": {
      "text/plain": [
       "(8693, 11)"
      ]
     },
     "execution_count": 83,
     "metadata": {},
     "output_type": "execute_result"
    }
   ],
   "source": [
    "df_train1.shape"
   ]
  },
  {
   "cell_type": "code",
   "execution_count": 84,
   "id": "74508b49",
   "metadata": {},
   "outputs": [
    {
     "data": {
      "text/plain": [
       "(4277, 10)"
      ]
     },
     "execution_count": 84,
     "metadata": {},
     "output_type": "execute_result"
    }
   ],
   "source": [
    "df_test1.shape"
   ]
  },
  {
   "cell_type": "code",
   "execution_count": 85,
   "id": "ddc6a7ea",
   "metadata": {},
   "outputs": [],
   "source": [
    "df_train1_dummy=pd.get_dummies(df_train1,drop_first=True)"
   ]
  },
  {
   "cell_type": "code",
   "execution_count": 86,
   "id": "47e4d47d",
   "metadata": {},
   "outputs": [
    {
     "data": {
      "text/plain": [
       "(8693, 20)"
      ]
     },
     "execution_count": 86,
     "metadata": {},
     "output_type": "execute_result"
    }
   ],
   "source": [
    "df_train1_dummy.shape"
   ]
  },
  {
   "cell_type": "code",
   "execution_count": 87,
   "id": "e7ab7139",
   "metadata": {},
   "outputs": [],
   "source": [
    "df_test1_dummy=pd.get_dummies(df_test1,drop_first=True)"
   ]
  },
  {
   "cell_type": "code",
   "execution_count": 88,
   "id": "f93c0850",
   "metadata": {},
   "outputs": [
    {
     "data": {
      "text/plain": [
       "(4277, 19)"
      ]
     },
     "execution_count": 88,
     "metadata": {},
     "output_type": "execute_result"
    }
   ],
   "source": [
    "df_test1_dummy.shape"
   ]
  },
  {
   "cell_type": "markdown",
   "id": "df11cdae",
   "metadata": {},
   "source": [
    "## 5.Splitting the data into X_train,y_train"
   ]
  },
  {
   "cell_type": "code",
   "execution_count": 89,
   "id": "1bfd460b",
   "metadata": {},
   "outputs": [
    {
     "data": {
      "text/html": [
       "<div>\n",
       "<style scoped>\n",
       "    .dataframe tbody tr th:only-of-type {\n",
       "        vertical-align: middle;\n",
       "    }\n",
       "\n",
       "    .dataframe tbody tr th {\n",
       "        vertical-align: top;\n",
       "    }\n",
       "\n",
       "    .dataframe thead th {\n",
       "        text-align: right;\n",
       "    }\n",
       "</style>\n",
       "<table border=\"1\" class=\"dataframe\">\n",
       "  <thead>\n",
       "    <tr style=\"text-align: right;\">\n",
       "      <th></th>\n",
       "      <th>HomePlanet</th>\n",
       "      <th>CryoSleep</th>\n",
       "      <th>Destination</th>\n",
       "      <th>VIP</th>\n",
       "      <th>Transported</th>\n",
       "      <th>Age_cat</th>\n",
       "      <th>RoomService_cat</th>\n",
       "      <th>FoodCourt_cat</th>\n",
       "      <th>ShoppingMall_cat</th>\n",
       "      <th>Spa_cat</th>\n",
       "      <th>VRDeck_cat</th>\n",
       "    </tr>\n",
       "  </thead>\n",
       "  <tbody>\n",
       "    <tr>\n",
       "      <th>0</th>\n",
       "      <td>Europa</td>\n",
       "      <td>False</td>\n",
       "      <td>TRAPPIST-1e</td>\n",
       "      <td>False</td>\n",
       "      <td>False</td>\n",
       "      <td>middle</td>\n",
       "      <td>NoRoomService</td>\n",
       "      <td>health_freak</td>\n",
       "      <td>thrift</td>\n",
       "      <td>low_spend</td>\n",
       "      <td>low</td>\n",
       "    </tr>\n",
       "    <tr>\n",
       "      <th>1</th>\n",
       "      <td>Earth</td>\n",
       "      <td>False</td>\n",
       "      <td>TRAPPIST-1e</td>\n",
       "      <td>False</td>\n",
       "      <td>True</td>\n",
       "      <td>young</td>\n",
       "      <td>Basic</td>\n",
       "      <td>health_conscious</td>\n",
       "      <td>mredium</td>\n",
       "      <td>medium_spend</td>\n",
       "      <td>medium</td>\n",
       "    </tr>\n",
       "    <tr>\n",
       "      <th>2</th>\n",
       "      <td>Europa</td>\n",
       "      <td>False</td>\n",
       "      <td>TRAPPIST-1e</td>\n",
       "      <td>True</td>\n",
       "      <td>False</td>\n",
       "      <td>middle</td>\n",
       "      <td>Basic</td>\n",
       "      <td>health_conscious</td>\n",
       "      <td>thrift</td>\n",
       "      <td>medium_spend</td>\n",
       "      <td>medium</td>\n",
       "    </tr>\n",
       "    <tr>\n",
       "      <th>3</th>\n",
       "      <td>Europa</td>\n",
       "      <td>False</td>\n",
       "      <td>TRAPPIST-1e</td>\n",
       "      <td>False</td>\n",
       "      <td>False</td>\n",
       "      <td>middle</td>\n",
       "      <td>NoRoomService</td>\n",
       "      <td>health_conscious</td>\n",
       "      <td>mredium</td>\n",
       "      <td>medium_spend</td>\n",
       "      <td>medium</td>\n",
       "    </tr>\n",
       "    <tr>\n",
       "      <th>4</th>\n",
       "      <td>Earth</td>\n",
       "      <td>False</td>\n",
       "      <td>TRAPPIST-1e</td>\n",
       "      <td>False</td>\n",
       "      <td>True</td>\n",
       "      <td>young</td>\n",
       "      <td>Basic</td>\n",
       "      <td>health_conscious</td>\n",
       "      <td>mredium</td>\n",
       "      <td>medium_spend</td>\n",
       "      <td>medium</td>\n",
       "    </tr>\n",
       "  </tbody>\n",
       "</table>\n",
       "</div>"
      ],
      "text/plain": [
       "  HomePlanet CryoSleep  Destination    VIP  Transported Age_cat  \\\n",
       "0     Europa     False  TRAPPIST-1e  False        False  middle   \n",
       "1      Earth     False  TRAPPIST-1e  False         True   young   \n",
       "2     Europa     False  TRAPPIST-1e   True        False  middle   \n",
       "3     Europa     False  TRAPPIST-1e  False        False  middle   \n",
       "4      Earth     False  TRAPPIST-1e  False         True   young   \n",
       "\n",
       "  RoomService_cat     FoodCourt_cat ShoppingMall_cat       Spa_cat VRDeck_cat  \n",
       "0   NoRoomService      health_freak           thrift     low_spend        low  \n",
       "1           Basic  health_conscious          mredium  medium_spend     medium  \n",
       "2           Basic  health_conscious           thrift  medium_spend     medium  \n",
       "3   NoRoomService  health_conscious          mredium  medium_spend     medium  \n",
       "4           Basic  health_conscious          mredium  medium_spend     medium  "
      ]
     },
     "execution_count": 89,
     "metadata": {},
     "output_type": "execute_result"
    }
   ],
   "source": [
    "df_train1.head()"
   ]
  },
  {
   "cell_type": "code",
   "execution_count": 90,
   "id": "77170811",
   "metadata": {},
   "outputs": [
    {
     "data": {
      "text/plain": [
       "(8693, 19)"
      ]
     },
     "execution_count": 90,
     "metadata": {},
     "output_type": "execute_result"
    }
   ],
   "source": [
    "X_train=df_train1_dummy.drop(['Transported'],axis=1)\n",
    "X_train.shape"
   ]
  },
  {
   "cell_type": "code",
   "execution_count": 91,
   "id": "37937955",
   "metadata": {},
   "outputs": [
    {
     "data": {
      "text/plain": [
       "(8693,)"
      ]
     },
     "execution_count": 91,
     "metadata": {},
     "output_type": "execute_result"
    }
   ],
   "source": [
    "y_train=df_train1_dummy['Transported']\n",
    "y_train.shape"
   ]
  },
  {
   "cell_type": "code",
   "execution_count": 92,
   "id": "07e8d125",
   "metadata": {},
   "outputs": [],
   "source": [
    "X_test=df_test1_dummy"
   ]
  },
  {
   "cell_type": "code",
   "execution_count": 93,
   "id": "0185a995",
   "metadata": {},
   "outputs": [
    {
     "data": {
      "text/plain": [
       "(4277, 19)"
      ]
     },
     "execution_count": 93,
     "metadata": {},
     "output_type": "execute_result"
    }
   ],
   "source": [
    "X_test.shape"
   ]
  },
  {
   "cell_type": "markdown",
   "id": "f0483498",
   "metadata": {},
   "source": [
    "## 6.Data Scaling"
   ]
  },
  {
   "cell_type": "code",
   "execution_count": 94,
   "id": "c7eb9db6",
   "metadata": {},
   "outputs": [],
   "source": [
    "#Scaling the data"
   ]
  },
  {
   "cell_type": "code",
   "execution_count": 95,
   "id": "2b07c15e",
   "metadata": {},
   "outputs": [],
   "source": [
    "sc=StandardScaler()"
   ]
  },
  {
   "cell_type": "code",
   "execution_count": 96,
   "id": "003f1fe6",
   "metadata": {},
   "outputs": [],
   "source": [
    "X_train_scaled=sc.fit_transform(X_train)\n",
    "X_test_scaled=sc.transform(X_test)"
   ]
  },
  {
   "cell_type": "markdown",
   "id": "d0f2260a",
   "metadata": {},
   "source": [
    "## 7.Model Building"
   ]
  },
  {
   "cell_type": "code",
   "execution_count": 97,
   "id": "c068226d",
   "metadata": {},
   "outputs": [],
   "source": [
    "#Model Building"
   ]
  },
  {
   "cell_type": "markdown",
   "id": "bb647201",
   "metadata": {},
   "source": [
    "### 1.LogisticRegression"
   ]
  },
  {
   "cell_type": "code",
   "execution_count": 98,
   "id": "597b736a",
   "metadata": {},
   "outputs": [],
   "source": [
    "lr=LogisticRegression()"
   ]
  },
  {
   "cell_type": "code",
   "execution_count": 99,
   "id": "6d3421d7",
   "metadata": {},
   "outputs": [
    {
     "data": {
      "text/plain": [
       "LogisticRegression()"
      ]
     },
     "execution_count": 99,
     "metadata": {},
     "output_type": "execute_result"
    }
   ],
   "source": [
    "lr.fit(X_train_scaled,y_train)"
   ]
  },
  {
   "cell_type": "code",
   "execution_count": 100,
   "id": "e4332977",
   "metadata": {},
   "outputs": [],
   "source": [
    "predicted_train_result=lr.predict(X_train_scaled)\n",
    "predicted_test_result=lr.predict(X_test_scaled)"
   ]
  },
  {
   "cell_type": "code",
   "execution_count": 101,
   "id": "aec0b909",
   "metadata": {},
   "outputs": [
    {
     "name": "stdout",
     "output_type": "stream",
     "text": [
      "Training accuracy score is: 0.7496836535143219\n"
     ]
    }
   ],
   "source": [
    "print('Training accuracy score is:',accuracy_score(y_train,predicted_train_result))"
   ]
  },
  {
   "cell_type": "code",
   "execution_count": 102,
   "id": "1f8ef246",
   "metadata": {},
   "outputs": [],
   "source": [
    "submit_lr=pd.DataFrame({'PassengerId':df_test['PassengerId'],'Transported':predicted_test_result})"
   ]
  },
  {
   "cell_type": "code",
   "execution_count": 103,
   "id": "e0f9653f",
   "metadata": {},
   "outputs": [],
   "source": [
    "submit_lr.to_csv('spaceship_titanic.submit_lr.csv',index=False)"
   ]
  },
  {
   "cell_type": "markdown",
   "id": "fc7aec1d",
   "metadata": {},
   "source": [
    "### 2.DecisionTreeClassifier"
   ]
  },
  {
   "cell_type": "code",
   "execution_count": 104,
   "id": "52a7e32e",
   "metadata": {},
   "outputs": [],
   "source": [
    "dt=DecisionTreeClassifier()"
   ]
  },
  {
   "cell_type": "code",
   "execution_count": 105,
   "id": "65b708f8",
   "metadata": {},
   "outputs": [
    {
     "data": {
      "text/plain": [
       "DecisionTreeClassifier()"
      ]
     },
     "execution_count": 105,
     "metadata": {},
     "output_type": "execute_result"
    }
   ],
   "source": [
    "dt.fit(X_train_scaled,y_train)"
   ]
  },
  {
   "cell_type": "code",
   "execution_count": 106,
   "id": "6817bedd",
   "metadata": {},
   "outputs": [],
   "source": [
    "predicted_train_result=dt.predict(X_train_scaled)\n",
    "predicted_test_result=dt.predict(X_test_scaled)"
   ]
  },
  {
   "cell_type": "code",
   "execution_count": 107,
   "id": "a43d0de6",
   "metadata": {},
   "outputs": [
    {
     "name": "stdout",
     "output_type": "stream",
     "text": [
      "Training accuracy score is: 0.772115495226044\n"
     ]
    }
   ],
   "source": [
    "print('Training accuracy score is:',accuracy_score(y_train,predicted_train_result))"
   ]
  },
  {
   "cell_type": "code",
   "execution_count": 108,
   "id": "c7532ba4",
   "metadata": {},
   "outputs": [],
   "source": [
    "submit_dt=pd.DataFrame({'PassengerId':df_test['PassengerId'],'Transported':predicted_test_result})"
   ]
  },
  {
   "cell_type": "code",
   "execution_count": 109,
   "id": "11763595",
   "metadata": {},
   "outputs": [],
   "source": [
    "submit_dt.to_csv('spaceship_titanic.submit_dt.csv',index=False)"
   ]
  },
  {
   "cell_type": "markdown",
   "id": "655fa892",
   "metadata": {},
   "source": [
    "### 3.RandomForestClassifier"
   ]
  },
  {
   "cell_type": "code",
   "execution_count": 110,
   "id": "53b2fe82",
   "metadata": {},
   "outputs": [],
   "source": [
    "rf=RandomForestClassifier()"
   ]
  },
  {
   "cell_type": "code",
   "execution_count": 111,
   "id": "a2ec87cc",
   "metadata": {},
   "outputs": [
    {
     "data": {
      "text/plain": [
       "RandomForestClassifier()"
      ]
     },
     "execution_count": 111,
     "metadata": {},
     "output_type": "execute_result"
    }
   ],
   "source": [
    "rf.fit(X_train_scaled,y_train)"
   ]
  },
  {
   "cell_type": "code",
   "execution_count": 112,
   "id": "f92f0702",
   "metadata": {},
   "outputs": [],
   "source": [
    "predicted_train_result=rf.predict(X_train_scaled)\n",
    "predicted_test_result=rf.predict(X_test_scaled)"
   ]
  },
  {
   "cell_type": "code",
   "execution_count": 113,
   "id": "0d7861fe",
   "metadata": {},
   "outputs": [
    {
     "name": "stdout",
     "output_type": "stream",
     "text": [
      "Training accuracy score is: 0.772115495226044\n"
     ]
    }
   ],
   "source": [
    "print('Training accuracy score is:',accuracy_score(y_train,predicted_train_result))"
   ]
  },
  {
   "cell_type": "code",
   "execution_count": 114,
   "id": "f97f477e",
   "metadata": {},
   "outputs": [],
   "source": [
    "submit_rf=pd.DataFrame({'PassengerId':df_test['PassengerId'],'Transported':predicted_test_result})"
   ]
  },
  {
   "cell_type": "code",
   "execution_count": 115,
   "id": "0affbe5d",
   "metadata": {},
   "outputs": [],
   "source": [
    "submit_rf.to_csv('spaceship_titanic.submit_rf.csv',index=False)"
   ]
  },
  {
   "cell_type": "markdown",
   "id": "ec51a478",
   "metadata": {},
   "source": [
    "### 4.GridSearchCV using RF as base model"
   ]
  },
  {
   "cell_type": "code",
   "execution_count": 116,
   "id": "2241b493",
   "metadata": {},
   "outputs": [],
   "source": [
    "tuned_parameters={'n_estimators':[85,100],'min_samples_split':[15,20],'max_depth':[8,10]}"
   ]
  },
  {
   "cell_type": "code",
   "execution_count": 117,
   "id": "3aebb825",
   "metadata": {},
   "outputs": [
    {
     "data": {
      "text/plain": [
       "GridSearchCV(cv=5, estimator=RandomForestClassifier(),\n",
       "             param_grid={'max_depth': [8, 10], 'min_samples_split': [15, 20],\n",
       "                         'n_estimators': [85, 100]})"
      ]
     },
     "execution_count": 117,
     "metadata": {},
     "output_type": "execute_result"
    }
   ],
   "source": [
    "gs_model=GridSearchCV(estimator=rf,param_grid=tuned_parameters,cv=5)\n",
    "gs_model"
   ]
  },
  {
   "cell_type": "code",
   "execution_count": 118,
   "id": "9b06ad00",
   "metadata": {},
   "outputs": [
    {
     "data": {
      "text/plain": [
       "GridSearchCV(cv=5, estimator=RandomForestClassifier(),\n",
       "             param_grid={'max_depth': [8, 10], 'min_samples_split': [15, 20],\n",
       "                         'n_estimators': [85, 100]})"
      ]
     },
     "execution_count": 118,
     "metadata": {},
     "output_type": "execute_result"
    }
   ],
   "source": [
    "gs_model.fit(X_train_scaled,y_train)"
   ]
  },
  {
   "cell_type": "code",
   "execution_count": 119,
   "id": "22ac298a",
   "metadata": {},
   "outputs": [
    {
     "name": "stdout",
     "output_type": "stream",
     "text": [
      "Best parameters are:  {'max_depth': 10, 'min_samples_split': 15, 'n_estimators': 85}\n"
     ]
    }
   ],
   "source": [
    "print('Best parameters are: ',gs_model.best_params_)"
   ]
  },
  {
   "cell_type": "code",
   "execution_count": 120,
   "id": "b8128178",
   "metadata": {},
   "outputs": [],
   "source": [
    "#Rebuilding the RF model with these parameters"
   ]
  },
  {
   "cell_type": "code",
   "execution_count": 121,
   "id": "87f32ac7",
   "metadata": {},
   "outputs": [],
   "source": [
    "rf1=RandomForestClassifier(n_estimators=85,min_samples_split=15,max_depth=10)"
   ]
  },
  {
   "cell_type": "code",
   "execution_count": 122,
   "id": "83b70664",
   "metadata": {},
   "outputs": [
    {
     "data": {
      "text/plain": [
       "RandomForestClassifier(max_depth=10, min_samples_split=15, n_estimators=85)"
      ]
     },
     "execution_count": 122,
     "metadata": {},
     "output_type": "execute_result"
    }
   ],
   "source": [
    "rf1.fit(X_train_scaled,y_train)"
   ]
  },
  {
   "cell_type": "code",
   "execution_count": 123,
   "id": "f2b41380",
   "metadata": {},
   "outputs": [],
   "source": [
    "predicted_train_result=rf1.predict(X_train_scaled)\n",
    "predicted_test_result=rf1.predict(X_test_scaled)"
   ]
  },
  {
   "cell_type": "code",
   "execution_count": 124,
   "id": "7bfc590e",
   "metadata": {},
   "outputs": [
    {
     "name": "stdout",
     "output_type": "stream",
     "text": [
      "Training accuracy score is: 0.7634878637984586\n"
     ]
    }
   ],
   "source": [
    "print('Training accuracy score is:',accuracy_score(y_train,predicted_train_result))"
   ]
  },
  {
   "cell_type": "code",
   "execution_count": 125,
   "id": "55fad63c",
   "metadata": {},
   "outputs": [],
   "source": [
    "#We can see that the results the training accuracy score with our base RF model was better than th eone using hyperparameters."
   ]
  },
  {
   "cell_type": "code",
   "execution_count": 126,
   "id": "9e289e91",
   "metadata": {},
   "outputs": [],
   "source": [
    "submit_rf_with_GridSearchCV=pd.DataFrame({'PassengerId':df_test['PassengerId'],'Transported':predicted_test_result})"
   ]
  },
  {
   "cell_type": "code",
   "execution_count": 127,
   "id": "a349a4d0",
   "metadata": {},
   "outputs": [],
   "source": [
    "submit_rf_with_GridSearchCV.to_csv('spaceship_titanic.submit_rf_with_GridSearchCV.csv',index=False)"
   ]
  },
  {
   "cell_type": "markdown",
   "id": "fb7eee25",
   "metadata": {},
   "source": [
    "### 5.XGBClassifier"
   ]
  },
  {
   "cell_type": "code",
   "execution_count": 128,
   "id": "cf39e204",
   "metadata": {},
   "outputs": [],
   "source": [
    "xgb=XGBClassifier()"
   ]
  },
  {
   "cell_type": "code",
   "execution_count": 129,
   "id": "0fb2af64",
   "metadata": {},
   "outputs": [
    {
     "data": {
      "text/plain": [
       "XGBClassifier(base_score=0.5, booster='gbtree', callbacks=None,\n",
       "              colsample_bylevel=1, colsample_bynode=1, colsample_bytree=1,\n",
       "              early_stopping_rounds=None, enable_categorical=False,\n",
       "              eval_metric=None, gamma=0, gpu_id=-1, grow_policy='depthwise',\n",
       "              importance_type=None, interaction_constraints='',\n",
       "              learning_rate=0.300000012, max_bin=256, max_cat_to_onehot=4,\n",
       "              max_delta_step=0, max_depth=6, max_leaves=0, min_child_weight=1,\n",
       "              missing=nan, monotone_constraints='()', n_estimators=100,\n",
       "              n_jobs=0, num_parallel_tree=1, predictor='auto', random_state=0,\n",
       "              reg_alpha=0, reg_lambda=1, ...)"
      ]
     },
     "execution_count": 129,
     "metadata": {},
     "output_type": "execute_result"
    }
   ],
   "source": [
    "xgb.fit(X_train_scaled,y_train)"
   ]
  },
  {
   "cell_type": "code",
   "execution_count": 130,
   "id": "f221b718",
   "metadata": {},
   "outputs": [],
   "source": [
    "predicted_train_result=xgb.predict(X_train_scaled)\n",
    "predicted_test_result=xgb.predict(X_test_scaled)"
   ]
  },
  {
   "cell_type": "code",
   "execution_count": 131,
   "id": "e06c35f3",
   "metadata": {},
   "outputs": [
    {
     "name": "stdout",
     "output_type": "stream",
     "text": [
      "Training accuracy score is: 0.7693546531692166\n"
     ]
    }
   ],
   "source": [
    "print('Training accuracy score is:',accuracy_score(y_train,predicted_train_result))"
   ]
  },
  {
   "cell_type": "code",
   "execution_count": 132,
   "id": "a2f2f596",
   "metadata": {},
   "outputs": [],
   "source": [
    "submit_XGB=pd.DataFrame({'PassengerId':df_test['PassengerId'],'Transported':predicted_test_result})"
   ]
  },
  {
   "cell_type": "code",
   "execution_count": 133,
   "id": "07a7a267",
   "metadata": {},
   "outputs": [],
   "source": [
    "submit_XGB.to_csv('spaceship_titanic.submit_XGB.csv',index=False)"
   ]
  },
  {
   "cell_type": "markdown",
   "id": "3d0a85b3",
   "metadata": {},
   "source": [
    "### 6.BaggingClassifier with Repeated CV"
   ]
  },
  {
   "cell_type": "code",
   "execution_count": 134,
   "id": "1697939d",
   "metadata": {},
   "outputs": [],
   "source": [
    "br=BaggingClassifier()"
   ]
  },
  {
   "cell_type": "code",
   "execution_count": 135,
   "id": "81f6bd34",
   "metadata": {},
   "outputs": [],
   "source": [
    "cv=RepeatedKFold(n_splits=10,n_repeats=3,random_state=1)"
   ]
  },
  {
   "cell_type": "code",
   "execution_count": 136,
   "id": "14d52fc4",
   "metadata": {},
   "outputs": [],
   "source": [
    "n_scores=cross_val_score(br,X_train,y_train,scoring='accuracy',cv=cv)"
   ]
  },
  {
   "cell_type": "code",
   "execution_count": 137,
   "id": "85f99ef4",
   "metadata": {},
   "outputs": [
    {
     "name": "stdout",
     "output_type": "stream",
     "text": [
      "Training accuracy score is: (0.7397512444391535, 0.015038561376193688)\n"
     ]
    }
   ],
   "source": [
    "print('Training accuracy score is:',(np.mean(n_scores),np.std(n_scores)))"
   ]
  },
  {
   "cell_type": "code",
   "execution_count": 138,
   "id": "b54b3758",
   "metadata": {},
   "outputs": [
    {
     "data": {
      "text/plain": [
       "BaggingClassifier()"
      ]
     },
     "execution_count": 138,
     "metadata": {},
     "output_type": "execute_result"
    }
   ],
   "source": [
    "br.fit(X_train,y_train)"
   ]
  },
  {
   "cell_type": "code",
   "execution_count": 139,
   "id": "27e1c8e1",
   "metadata": {},
   "outputs": [],
   "source": [
    "predicted_test_result=br.predict(X_test)"
   ]
  },
  {
   "cell_type": "code",
   "execution_count": 140,
   "id": "b1f98d85",
   "metadata": {},
   "outputs": [],
   "source": [
    "submit_br_with_repeated_CV=pd.DataFrame({'PassengerId':df_test['PassengerId'],'Transported':predicted_test_result})"
   ]
  },
  {
   "cell_type": "code",
   "execution_count": 141,
   "id": "f596e7d5",
   "metadata": {},
   "outputs": [],
   "source": [
    "submit_br_with_repeated_CV.to_csv('spaceship_titanic.submit_br_with_repeated_CV.csv',index=False)"
   ]
  },
  {
   "cell_type": "markdown",
   "id": "91441196",
   "metadata": {},
   "source": [
    "### 7.KNeighborsClassifier"
   ]
  },
  {
   "cell_type": "code",
   "execution_count": 142,
   "id": "30c8e69a",
   "metadata": {},
   "outputs": [],
   "source": [
    "k_values=range(3,21)"
   ]
  },
  {
   "cell_type": "code",
   "execution_count": 143,
   "id": "23a865e9",
   "metadata": {},
   "outputs": [],
   "source": [
    "train_accuracy={}"
   ]
  },
  {
   "cell_type": "code",
   "execution_count": 144,
   "id": "aa226a1e",
   "metadata": {},
   "outputs": [],
   "source": [
    "for k in k_values:\n",
    "    knn=KNeighborsClassifier(n_neighbors=k)\n",
    "    knn.fit(X_train_scaled,y_train)\n",
    "    predicted_train_result=knn.predict(X_train_scaled)\n",
    "    predicted_test_result=knn.predict(X_test_scaled)\n",
    "    train_accuracy[k]=accuracy_score(y_train,predicted_train_result)"
   ]
  },
  {
   "cell_type": "code",
   "execution_count": 145,
   "id": "eb0857be",
   "metadata": {},
   "outputs": [
    {
     "data": {
      "text/plain": [
       "0.7556654779707811"
      ]
     },
     "execution_count": 145,
     "metadata": {},
     "output_type": "execute_result"
    }
   ],
   "source": [
    "max(train_accuracy.values())"
   ]
  },
  {
   "cell_type": "code",
   "execution_count": 146,
   "id": "2a502bd0",
   "metadata": {},
   "outputs": [
    {
     "data": {
      "text/plain": [
       "{3: 0.726561601288393,\n",
       " 4: 0.7277119521454043,\n",
       " 5: 0.7512941447141378,\n",
       " 6: 0.7338088116875647,\n",
       " 7: 0.7517542850569424,\n",
       " 8: 0.7534798113424594,\n",
       " 9: 0.7533647762567584,\n",
       " 10: 0.7508340043713333,\n",
       " 11: 0.7535948464281605,\n",
       " 12: 0.754745197285172,\n",
       " 13: 0.7535948464281605,\n",
       " 14: 0.7549752674565743,\n",
       " 15: 0.7552053376279765,\n",
       " 16: 0.7552053376279765,\n",
       " 17: 0.7553203727136777,\n",
       " 18: 0.7556654779707811,\n",
       " 19: 0.7554354077993788,\n",
       " 20: 0.7548602323708731}"
      ]
     },
     "execution_count": 146,
     "metadata": {},
     "output_type": "execute_result"
    }
   ],
   "source": [
    "train_accuracy"
   ]
  },
  {
   "cell_type": "code",
   "execution_count": 147,
   "id": "918bfa35",
   "metadata": {},
   "outputs": [
    {
     "data": {
      "image/png": "[encoded data removed]",
      "text/plain": [
       "<Figure size 864x576 with 1 Axes>"
      ]
     },
     "metadata": {
      "needs_background": "light"
     },
     "output_type": "display_data"
    }
   ],
   "source": [
    "plt.figure(figsize=(12,8))\n",
    "plt.plot(list(train_accuracy.keys()),list(train_accuracy.values()))\n",
    "plt.axvline(x=18,color='red')    # Since the accuracy score is maximum for k=18\n",
    "plt.show()"
   ]
  },
  {
   "cell_type": "code",
   "execution_count": 148,
   "id": "620adb26",
   "metadata": {},
   "outputs": [],
   "source": [
    "knn=KNeighborsClassifier(n_neighbors=18)"
   ]
  },
  {
   "cell_type": "code",
   "execution_count": 149,
   "id": "5178ef44",
   "metadata": {},
   "outputs": [
    {
     "data": {
      "text/plain": [
       "KNeighborsClassifier(n_neighbors=18)"
      ]
     },
     "execution_count": 149,
     "metadata": {},
     "output_type": "execute_result"
    }
   ],
   "source": [
    "knn.fit(X_train_scaled,y_train)"
   ]
  },
  {
   "cell_type": "code",
   "execution_count": 150,
   "id": "a7d51e7a",
   "metadata": {},
   "outputs": [],
   "source": [
    "predicted_train_result=knn.predict(X_train_scaled)\n",
    "predicted_test_result=knn.predict(X_test_scaled)"
   ]
  },
  {
   "cell_type": "code",
   "execution_count": 151,
   "id": "4d207b98",
   "metadata": {},
   "outputs": [
    {
     "name": "stdout",
     "output_type": "stream",
     "text": [
      "Training accuracy score is: 0.7556654779707811\n"
     ]
    }
   ],
   "source": [
    "print('Training accuracy score is:',accuracy_score(y_train,predicted_train_result))"
   ]
  },
  {
   "cell_type": "code",
   "execution_count": 152,
   "id": "97ae1a3f",
   "metadata": {},
   "outputs": [],
   "source": [
    "submit_knn=pd.DataFrame({'PassengerId':df_test['PassengerId'],'Transported':predicted_test_result})"
   ]
  },
  {
   "cell_type": "code",
   "execution_count": 153,
   "id": "9fb57ef2",
   "metadata": {},
   "outputs": [],
   "source": [
    "submit_knn.to_csv('spaceship_titanic.submit_knn.csv',index=False)"
   ]
  },
  {
   "cell_type": "markdown",
   "id": "5ce6e56f",
   "metadata": {},
   "source": [
    "### 8.RFE and model building using KNN"
   ]
  },
  {
   "cell_type": "code",
   "execution_count": 154,
   "id": "c24681c7",
   "metadata": {},
   "outputs": [],
   "source": [
    "rf1=RandomForestClassifier()"
   ]
  },
  {
   "cell_type": "code",
   "execution_count": 155,
   "id": "60824df6",
   "metadata": {},
   "outputs": [
    {
     "name": "stdout",
     "output_type": "stream",
     "text": [
      "Fitting estimator with 19 features.\n",
      "Fitting estimator with 18 features.\n",
      "Fitting estimator with 17 features.\n"
     ]
    },
    {
     "data": {
      "text/plain": [
       "RFE(estimator=RandomForestClassifier(), n_features_to_select=16, verbose=1)"
      ]
     },
     "execution_count": 155,
     "metadata": {},
     "output_type": "execute_result"
    }
   ],
   "source": [
    "rfe=RFE(estimator=rf,n_features_to_select=16,verbose=1)\n",
    "rfe.fit(X_train_scaled,y_train)"
   ]
  },
  {
   "cell_type": "code",
   "execution_count": 156,
   "id": "a2a9a0a5",
   "metadata": {},
   "outputs": [
    {
     "name": "stdout",
     "output_type": "stream",
     "text": [
      "Index(['HomePlanet_Europa', 'HomePlanet_Mars', 'CryoSleep_True',\n",
      "       'Destination_PSO J318.5-22', 'Destination_TRAPPIST-1e', 'Age_cat_young',\n",
      "       'RoomService_cat_NoRoomService', 'RoomService_cat_Special',\n",
      "       'FoodCourt_cat_health_conscious', 'FoodCourt_cat_health_freak',\n",
      "       'ShoppingMall_cat_mredium', 'ShoppingMall_cat_thrift',\n",
      "       'Spa_cat_low_spend', 'Spa_cat_medium_spend', 'VRDeck_cat_low',\n",
      "       'VRDeck_cat_medium'],\n",
      "      dtype='object')\n"
     ]
    }
   ],
   "source": [
    "print(X_train.columns[rfe.support_])"
   ]
  },
  {
   "cell_type": "code",
   "execution_count": 157,
   "id": "b74d0872",
   "metadata": {},
   "outputs": [
    {
     "name": "stdout",
     "output_type": "stream",
     "text": [
      "Index(['HomePlanet_Mars', 'HomePlanet_Mars', 'HomePlanet_Mars',\n",
      "       'HomePlanet_Mars', 'HomePlanet_Mars', 'CryoSleep_True',\n",
      "       'Destination_PSO J318.5-22', 'HomePlanet_Mars', 'HomePlanet_Mars',\n",
      "       'Destination_TRAPPIST-1e', 'HomePlanet_Mars', 'HomePlanet_Mars',\n",
      "       'HomePlanet_Mars', 'HomePlanet_Mars', 'HomePlanet_Mars',\n",
      "       'HomePlanet_Mars', 'HomePlanet_Mars', 'HomePlanet_Mars',\n",
      "       'HomePlanet_Mars'],\n",
      "      dtype='object')\n"
     ]
    }
   ],
   "source": [
    "print(X_train.columns[rfe.ranking_])"
   ]
  },
  {
   "cell_type": "code",
   "execution_count": 158,
   "id": "9b2deeff",
   "metadata": {},
   "outputs": [
    {
     "data": {
      "text/html": [
       "<div>\n",
       "<style scoped>\n",
       "    .dataframe tbody tr th:only-of-type {\n",
       "        vertical-align: middle;\n",
       "    }\n",
       "\n",
       "    .dataframe tbody tr th {\n",
       "        vertical-align: top;\n",
       "    }\n",
       "\n",
       "    .dataframe thead th {\n",
       "        text-align: right;\n",
       "    }\n",
       "</style>\n",
       "<table border=\"1\" class=\"dataframe\">\n",
       "  <thead>\n",
       "    <tr style=\"text-align: right;\">\n",
       "      <th></th>\n",
       "      <th>col</th>\n",
       "      <th>rank</th>\n",
       "    </tr>\n",
       "  </thead>\n",
       "  <tbody>\n",
       "    <tr>\n",
       "      <th>0</th>\n",
       "      <td>HomePlanet_Europa</td>\n",
       "      <td>1</td>\n",
       "    </tr>\n",
       "    <tr>\n",
       "      <th>16</th>\n",
       "      <td>Spa_cat_medium_spend</td>\n",
       "      <td>1</td>\n",
       "    </tr>\n",
       "    <tr>\n",
       "      <th>15</th>\n",
       "      <td>Spa_cat_low_spend</td>\n",
       "      <td>1</td>\n",
       "    </tr>\n",
       "    <tr>\n",
       "      <th>14</th>\n",
       "      <td>ShoppingMall_cat_thrift</td>\n",
       "      <td>1</td>\n",
       "    </tr>\n",
       "    <tr>\n",
       "      <th>13</th>\n",
       "      <td>ShoppingMall_cat_mredium</td>\n",
       "      <td>1</td>\n",
       "    </tr>\n",
       "    <tr>\n",
       "      <th>12</th>\n",
       "      <td>FoodCourt_cat_health_freak</td>\n",
       "      <td>1</td>\n",
       "    </tr>\n",
       "    <tr>\n",
       "      <th>11</th>\n",
       "      <td>FoodCourt_cat_health_conscious</td>\n",
       "      <td>1</td>\n",
       "    </tr>\n",
       "    <tr>\n",
       "      <th>10</th>\n",
       "      <td>RoomService_cat_Special</td>\n",
       "      <td>1</td>\n",
       "    </tr>\n",
       "    <tr>\n",
       "      <th>17</th>\n",
       "      <td>VRDeck_cat_low</td>\n",
       "      <td>1</td>\n",
       "    </tr>\n",
       "    <tr>\n",
       "      <th>18</th>\n",
       "      <td>VRDeck_cat_medium</td>\n",
       "      <td>1</td>\n",
       "    </tr>\n",
       "    <tr>\n",
       "      <th>7</th>\n",
       "      <td>Age_cat_young</td>\n",
       "      <td>1</td>\n",
       "    </tr>\n",
       "    <tr>\n",
       "      <th>4</th>\n",
       "      <td>Destination_TRAPPIST-1e</td>\n",
       "      <td>1</td>\n",
       "    </tr>\n",
       "    <tr>\n",
       "      <th>3</th>\n",
       "      <td>Destination_PSO J318.5-22</td>\n",
       "      <td>1</td>\n",
       "    </tr>\n",
       "    <tr>\n",
       "      <th>2</th>\n",
       "      <td>CryoSleep_True</td>\n",
       "      <td>1</td>\n",
       "    </tr>\n",
       "    <tr>\n",
       "      <th>1</th>\n",
       "      <td>HomePlanet_Mars</td>\n",
       "      <td>1</td>\n",
       "    </tr>\n",
       "    <tr>\n",
       "      <th>8</th>\n",
       "      <td>RoomService_cat_NoRoomService</td>\n",
       "      <td>1</td>\n",
       "    </tr>\n",
       "    <tr>\n",
       "      <th>5</th>\n",
       "      <td>VIP_True</td>\n",
       "      <td>2</td>\n",
       "    </tr>\n",
       "    <tr>\n",
       "      <th>6</th>\n",
       "      <td>Age_cat_old</td>\n",
       "      <td>3</td>\n",
       "    </tr>\n",
       "    <tr>\n",
       "      <th>9</th>\n",
       "      <td>RoomService_cat_Premium</td>\n",
       "      <td>4</td>\n",
       "    </tr>\n",
       "  </tbody>\n",
       "</table>\n",
       "</div>"
      ],
      "text/plain": [
       "                               col  rank\n",
       "0                HomePlanet_Europa     1\n",
       "16            Spa_cat_medium_spend     1\n",
       "15               Spa_cat_low_spend     1\n",
       "14         ShoppingMall_cat_thrift     1\n",
       "13        ShoppingMall_cat_mredium     1\n",
       "12      FoodCourt_cat_health_freak     1\n",
       "11  FoodCourt_cat_health_conscious     1\n",
       "10         RoomService_cat_Special     1\n",
       "17                  VRDeck_cat_low     1\n",
       "18               VRDeck_cat_medium     1\n",
       "7                    Age_cat_young     1\n",
       "4          Destination_TRAPPIST-1e     1\n",
       "3        Destination_PSO J318.5-22     1\n",
       "2                   CryoSleep_True     1\n",
       "1                  HomePlanet_Mars     1\n",
       "8    RoomService_cat_NoRoomService     1\n",
       "5                         VIP_True     2\n",
       "6                      Age_cat_old     3\n",
       "9          RoomService_cat_Premium     4"
      ]
     },
     "execution_count": 158,
     "metadata": {},
     "output_type": "execute_result"
    }
   ],
   "source": [
    "col_rank=pd.DataFrame(list(zip(X_train.columns,rfe.ranking_)),columns=['col','rank'])\n",
    "col_rank.sort_values('rank')              "
   ]
  },
  {
   "cell_type": "code",
   "execution_count": 159,
   "id": "18e80b09",
   "metadata": {},
   "outputs": [
    {
     "data": {
      "text/plain": [
       "0                  HomePlanet_Europa\n",
       "1                    HomePlanet_Mars\n",
       "2                     CryoSleep_True\n",
       "3          Destination_PSO J318.5-22\n",
       "4            Destination_TRAPPIST-1e\n",
       "7                      Age_cat_young\n",
       "8      RoomService_cat_NoRoomService\n",
       "10           RoomService_cat_Special\n",
       "11    FoodCourt_cat_health_conscious\n",
       "12        FoodCourt_cat_health_freak\n",
       "13          ShoppingMall_cat_mredium\n",
       "14           ShoppingMall_cat_thrift\n",
       "15                 Spa_cat_low_spend\n",
       "16              Spa_cat_medium_spend\n",
       "17                    VRDeck_cat_low\n",
       "18                 VRDeck_cat_medium\n",
       "Name: col, dtype: object"
      ]
     },
     "execution_count": 159,
     "metadata": {},
     "output_type": "execute_result"
    }
   ],
   "source": [
    "imp_cols=col_rank.loc[col_rank['rank']==1,'col']\n",
    "imp_cols"
   ]
  },
  {
   "cell_type": "code",
   "execution_count": 160,
   "id": "8cf75aa4",
   "metadata": {},
   "outputs": [],
   "source": [
    "X_tr_subset=X_train[imp_cols]\n",
    "X_ts_subset=X_test[imp_cols]"
   ]
  },
  {
   "cell_type": "code",
   "execution_count": 161,
   "id": "47f59a34",
   "metadata": {},
   "outputs": [],
   "source": [
    "X_tr_scaled=sc.fit_transform(X_tr_subset)\n",
    "X_ts_scaled=sc.transform(X_ts_subset)"
   ]
  },
  {
   "cell_type": "code",
   "execution_count": 162,
   "id": "43aab911",
   "metadata": {},
   "outputs": [],
   "source": [
    "k_values=range(3,21)"
   ]
  },
  {
   "cell_type": "code",
   "execution_count": 163,
   "id": "b4b358c5",
   "metadata": {},
   "outputs": [],
   "source": [
    "train_acc1={}"
   ]
  },
  {
   "cell_type": "code",
   "execution_count": 164,
   "id": "a54b9d50",
   "metadata": {},
   "outputs": [],
   "source": [
    "for k in k_values:\n",
    "    knn=KNeighborsClassifier(n_neighbors=k)\n",
    "    knn.fit(X_tr_scaled,y_train)\n",
    "    predicted_train_result=knn.predict(X_tr_scaled)\n",
    "    predicted_test_result=knn.predict(X_ts_scaled)\n",
    "    train_acc1[k]=accuracy_score(y_train,predicted_train_result)"
   ]
  },
  {
   "cell_type": "code",
   "execution_count": 165,
   "id": "7122b1f3",
   "metadata": {},
   "outputs": [
    {
     "data": {
      "text/plain": [
       "0.7639480041412631"
      ]
     },
     "execution_count": 165,
     "metadata": {},
     "output_type": "execute_result"
    }
   ],
   "source": [
    "max(train_acc1.values())"
   ]
  },
  {
   "cell_type": "code",
   "execution_count": 166,
   "id": "213fc4b1",
   "metadata": {},
   "outputs": [
    {
     "data": {
      "text/plain": [
       "{3: 0.7262164960312896,\n",
       " 4: 0.7319682503163465,\n",
       " 5: 0.7508340043713333,\n",
       " 6: 0.7355343379730818,\n",
       " 7: 0.7577361095134015,\n",
       " 8: 0.7392154607155182,\n",
       " 9: 0.7552053376279765,\n",
       " 10: 0.7326584608305533,\n",
       " 11: 0.7509490394570344,\n",
       " 12: 0.7615322673415391,\n",
       " 13: 0.7545151271137697,\n",
       " 14: 0.7624525480271482,\n",
       " 15: 0.7603819164845278,\n",
       " 16: 0.7636028988841597,\n",
       " 17: 0.7575060393419993,\n",
       " 18: 0.7639480041412631,\n",
       " 19: 0.7586563901990107,\n",
       " 20: 0.7624525480271482}"
      ]
     },
     "execution_count": 166,
     "metadata": {},
     "output_type": "execute_result"
    }
   ],
   "source": [
    "train_acc1"
   ]
  },
  {
   "cell_type": "code",
   "execution_count": 167,
   "id": "67566a9c",
   "metadata": {},
   "outputs": [
    {
     "data": {
      "image/png": "[encoded data removed]",
      "text/plain": [
       "<Figure size 864x576 with 1 Axes>"
      ]
     },
     "metadata": {
      "needs_background": "light"
     },
     "output_type": "display_data"
    }
   ],
   "source": [
    "plt.figure(figsize=(12,8))\n",
    "plt.plot(list(train_accuracy.keys()),list(train_accuracy.values()))\n",
    "plt.axvline(x=18,color='red')    # Since the accuracy score is maximum for k=18\n",
    "plt.show()"
   ]
  },
  {
   "cell_type": "code",
   "execution_count": 168,
   "id": "a305e7ae",
   "metadata": {},
   "outputs": [],
   "source": [
    "knn=KNeighborsClassifier(n_neighbors=18)"
   ]
  },
  {
   "cell_type": "code",
   "execution_count": 169,
   "id": "817bc49f",
   "metadata": {},
   "outputs": [
    {
     "data": {
      "text/plain": [
       "KNeighborsClassifier(n_neighbors=18)"
      ]
     },
     "execution_count": 169,
     "metadata": {},
     "output_type": "execute_result"
    }
   ],
   "source": [
    "knn.fit(X_tr_scaled,y_train)"
   ]
  },
  {
   "cell_type": "code",
   "execution_count": 170,
   "id": "33935d10",
   "metadata": {},
   "outputs": [],
   "source": [
    "predicted_train_result=knn.predict(X_tr_scaled)\n",
    "predicted_test_result=knn.predict(X_ts_scaled)"
   ]
  },
  {
   "cell_type": "code",
   "execution_count": 171,
   "id": "ec2cd0e2",
   "metadata": {},
   "outputs": [
    {
     "name": "stdout",
     "output_type": "stream",
     "text": [
      "Training accuracy score is: 0.7639480041412631\n"
     ]
    }
   ],
   "source": [
    "print('Training accuracy score is:',accuracy_score(y_train,predicted_train_result))"
   ]
  },
  {
   "cell_type": "code",
   "execution_count": 172,
   "id": "accffd96",
   "metadata": {},
   "outputs": [],
   "source": [
    "submit_knn_with_RFE=pd.DataFrame({'PassengerId':df_test['PassengerId'],'Transported':predicted_test_result})"
   ]
  },
  {
   "cell_type": "code",
   "execution_count": 173,
   "id": "ba6afbca",
   "metadata": {},
   "outputs": [],
   "source": [
    "submit_knn_with_RFE.to_csv('spaceship_titanic.submit_knn_with_RFE.csv',index=False)"
   ]
  },
  {
   "cell_type": "markdown",
   "id": "ef99f7a5",
   "metadata": {},
   "source": [
    "### 9.SupportVectormachine(SVC)"
   ]
  },
  {
   "cell_type": "markdown",
   "id": "7b0ec21a",
   "metadata": {},
   "source": [
    "#### A.Kernel=Linear"
   ]
  },
  {
   "cell_type": "code",
   "execution_count": 174,
   "id": "f87f5f9c",
   "metadata": {},
   "outputs": [],
   "source": [
    "svc1=SVC(kernel='linear')"
   ]
  },
  {
   "cell_type": "code",
   "execution_count": 175,
   "id": "6d43623d",
   "metadata": {},
   "outputs": [
    {
     "data": {
      "text/plain": [
       "SVC(kernel='linear')"
      ]
     },
     "execution_count": 175,
     "metadata": {},
     "output_type": "execute_result"
    }
   ],
   "source": [
    "svc1.fit(X_train,y_train)"
   ]
  },
  {
   "cell_type": "code",
   "execution_count": 176,
   "id": "ffc5b2d3",
   "metadata": {},
   "outputs": [],
   "source": [
    "predicted_train_result=svc1.predict(X_train)\n",
    "predicted_test_result=svc1.predict(X_test)"
   ]
  },
  {
   "cell_type": "code",
   "execution_count": 177,
   "id": "246b3738",
   "metadata": {},
   "outputs": [
    {
     "name": "stdout",
     "output_type": "stream",
     "text": [
      "Training accuracy score is: 0.7303577591165306\n"
     ]
    }
   ],
   "source": [
    "print('Training accuracy score is:',accuracy_score(y_train,predicted_train_result))"
   ]
  },
  {
   "cell_type": "code",
   "execution_count": 178,
   "id": "18a554fc",
   "metadata": {},
   "outputs": [],
   "source": [
    "submit_svc_linear_kernel=pd.DataFrame({'PassengerId':df_test['PassengerId'],'Transported':predicted_test_result})"
   ]
  },
  {
   "cell_type": "code",
   "execution_count": 179,
   "id": "a7c276d3",
   "metadata": {},
   "outputs": [],
   "source": [
    "submit_svc_linear_kernel.to_csv('spaceship_titanic.submit_svc_linear_kernel.csv',index=False)"
   ]
  },
  {
   "cell_type": "markdown",
   "id": "1c058017",
   "metadata": {},
   "source": [
    "#### B.Kernel=Radial(rbf)"
   ]
  },
  {
   "cell_type": "code",
   "execution_count": 180,
   "id": "67de71da",
   "metadata": {},
   "outputs": [],
   "source": [
    "svc2=SVC(kernel='rbf')"
   ]
  },
  {
   "cell_type": "code",
   "execution_count": 181,
   "id": "d64dcd03",
   "metadata": {},
   "outputs": [
    {
     "data": {
      "text/plain": [
       "SVC()"
      ]
     },
     "execution_count": 181,
     "metadata": {},
     "output_type": "execute_result"
    }
   ],
   "source": [
    "svc2.fit(X_train,y_train)"
   ]
  },
  {
   "cell_type": "code",
   "execution_count": 182,
   "id": "4890c3cd",
   "metadata": {},
   "outputs": [],
   "source": [
    "predicted_train_result=svc2.predict(X_train)\n",
    "predicted_test_result=svc2.predict(X_test)"
   ]
  },
  {
   "cell_type": "code",
   "execution_count": 183,
   "id": "decf578f",
   "metadata": {},
   "outputs": [
    {
     "name": "stdout",
     "output_type": "stream",
     "text": [
      "Training accuracy score is: 0.756470723570689\n"
     ]
    }
   ],
   "source": [
    "print('Training accuracy score is:',accuracy_score(y_train,predicted_train_result))"
   ]
  },
  {
   "cell_type": "code",
   "execution_count": 184,
   "id": "36e29424",
   "metadata": {},
   "outputs": [],
   "source": [
    "submit_svc_rbf_kernel=pd.DataFrame({'PassengerId':df_test['PassengerId'],'Transported':predicted_test_result})"
   ]
  },
  {
   "cell_type": "code",
   "execution_count": 185,
   "id": "16b43a76",
   "metadata": {},
   "outputs": [],
   "source": [
    "submit_svc_rbf_kernel.to_csv('spaceship_titanic.submit_svc_rbf_kernel.csv',index=False)"
   ]
  },
  {
   "cell_type": "markdown",
   "id": "b47b76d0",
   "metadata": {},
   "source": [
    "#### C.Kernel=Sigmoid"
   ]
  },
  {
   "cell_type": "code",
   "execution_count": 186,
   "id": "e213dc9b",
   "metadata": {},
   "outputs": [],
   "source": [
    "svc3=SVC(kernel='sigmoid')"
   ]
  },
  {
   "cell_type": "code",
   "execution_count": 187,
   "id": "1a1b7aeb",
   "metadata": {},
   "outputs": [
    {
     "data": {
      "text/plain": [
       "SVC(kernel='sigmoid')"
      ]
     },
     "execution_count": 187,
     "metadata": {},
     "output_type": "execute_result"
    }
   ],
   "source": [
    "svc3.fit(X_train,y_train)"
   ]
  },
  {
   "cell_type": "code",
   "execution_count": 188,
   "id": "349a441f",
   "metadata": {},
   "outputs": [],
   "source": [
    "predicted_train_result=svc3.predict(X_train)\n",
    "predicted_test_result=svc3.predict(X_test)"
   ]
  },
  {
   "cell_type": "code",
   "execution_count": 189,
   "id": "eafa32ba",
   "metadata": {},
   "outputs": [
    {
     "name": "stdout",
     "output_type": "stream",
     "text": [
      "Training accuracy score is: 0.5403197975382492\n"
     ]
    }
   ],
   "source": [
    "print('Training accuracy score is:',accuracy_score(y_train,predicted_train_result))"
   ]
  },
  {
   "cell_type": "code",
   "execution_count": 190,
   "id": "5d881898",
   "metadata": {},
   "outputs": [],
   "source": [
    "submit_svc_sigmoid_kernel=pd.DataFrame({'PassengerId':df_test['PassengerId'],'Transported':predicted_test_result})"
   ]
  },
  {
   "cell_type": "code",
   "execution_count": 191,
   "id": "367669b1",
   "metadata": {},
   "outputs": [],
   "source": [
    "submit_svc_sigmoid_kernel.to_csv('spaceship_titanic.submit_svc_sigmoid_kernel.csv',index=False)"
   ]
  },
  {
   "cell_type": "markdown",
   "id": "c5615a86",
   "metadata": {},
   "source": [
    "#### D.Kernel=Poly"
   ]
  },
  {
   "cell_type": "code",
   "execution_count": 192,
   "id": "b3ad7411",
   "metadata": {},
   "outputs": [],
   "source": [
    "svc4=SVC(kernel='poly')"
   ]
  },
  {
   "cell_type": "code",
   "execution_count": 193,
   "id": "84c918da",
   "metadata": {},
   "outputs": [
    {
     "data": {
      "text/plain": [
       "SVC(kernel='poly')"
      ]
     },
     "execution_count": 193,
     "metadata": {},
     "output_type": "execute_result"
    }
   ],
   "source": [
    "svc4.fit(X_train,y_train)"
   ]
  },
  {
   "cell_type": "code",
   "execution_count": 194,
   "id": "7714f8ab",
   "metadata": {},
   "outputs": [],
   "source": [
    "predicted_train_result=svc4.predict(X_train)\n",
    "predicted_test_result=svc4.predict(X_test)"
   ]
  },
  {
   "cell_type": "code",
   "execution_count": 195,
   "id": "2ff3d2fa",
   "metadata": {},
   "outputs": [
    {
     "name": "stdout",
     "output_type": "stream",
     "text": [
      "Training accuracy score is: 0.7569308639134936\n"
     ]
    }
   ],
   "source": [
    "print('Training accuracy score is:',accuracy_score(y_train,predicted_train_result))"
   ]
  },
  {
   "cell_type": "code",
   "execution_count": 196,
   "id": "a17f89d3",
   "metadata": {},
   "outputs": [],
   "source": [
    "submit_svc_poly_kernel=pd.DataFrame({'PassengerId':df_test['PassengerId'],'Transported':predicted_test_result})"
   ]
  },
  {
   "cell_type": "code",
   "execution_count": 197,
   "id": "d49ec9b6",
   "metadata": {},
   "outputs": [],
   "source": [
    "submit_svc_poly_kernel.to_csv('spaceship_titanic.submit_svc_poly_kernel.csv',index=False)"
   ]
  },
  {
   "cell_type": "markdown",
   "id": "1121ea15",
   "metadata": {},
   "source": [
    "#### E.Kernel=Poly with GridSearchCV"
   ]
  },
  {
   "cell_type": "code",
   "execution_count": 198,
   "id": "677f761f",
   "metadata": {},
   "outputs": [],
   "source": [
    "#Tuning the parameters with GridSearchCV"
   ]
  },
  {
   "cell_type": "code",
   "execution_count": 199,
   "id": "281c3fef",
   "metadata": {},
   "outputs": [],
   "source": [
    "param_grid={'degree':[2,4,6],'gamma':['auto','scale'],'C':[0.25,0.5,1]}"
   ]
  },
  {
   "cell_type": "code",
   "execution_count": 200,
   "id": "6cac9630",
   "metadata": {},
   "outputs": [
    {
     "data": {
      "text/plain": [
       "GridSearchCV(cv=5, estimator=SVC(kernel='poly'),\n",
       "             param_grid={'C': [0.25, 0.5, 1], 'degree': [2, 4, 6],\n",
       "                         'gamma': ['auto', 'scale']},\n",
       "             scoring='accuracy')"
      ]
     },
     "execution_count": 200,
     "metadata": {},
     "output_type": "execute_result"
    }
   ],
   "source": [
    "gs_model1=GridSearchCV(estimator=SVC(kernel='poly'),param_grid=param_grid,scoring='accuracy',cv=5)\n",
    "gs_model1.fit(X_train,y_train)"
   ]
  },
  {
   "cell_type": "code",
   "execution_count": 201,
   "id": "d6f8753e",
   "metadata": {},
   "outputs": [
    {
     "name": "stdout",
     "output_type": "stream",
     "text": [
      "Best Parameters are: {'C': 0.25, 'degree': 4, 'gamma': 'scale'}\n"
     ]
    }
   ],
   "source": [
    "print('Best Parameters are:',gs_model1.best_params_)"
   ]
  },
  {
   "cell_type": "code",
   "execution_count": 202,
   "id": "06a21292",
   "metadata": {},
   "outputs": [],
   "source": [
    "#Rebuilding the model with tuned parameters\n",
    "\n",
    "svc5=SVC(kernel='poly',degree=4,gamma='scale',C=0.25)"
   ]
  },
  {
   "cell_type": "code",
   "execution_count": 203,
   "id": "3a82718b",
   "metadata": {},
   "outputs": [
    {
     "data": {
      "text/plain": [
       "SVC(C=0.25, degree=4, kernel='poly')"
      ]
     },
     "execution_count": 203,
     "metadata": {},
     "output_type": "execute_result"
    }
   ],
   "source": [
    "svc5.fit(X_train,y_train)"
   ]
  },
  {
   "cell_type": "code",
   "execution_count": 204,
   "id": "ab4b3a72",
   "metadata": {},
   "outputs": [],
   "source": [
    "predicted_train_result=svc5.predict(X_train)\n",
    "predicted_test_result=svc5.predict(X_test)"
   ]
  },
  {
   "cell_type": "code",
   "execution_count": 205,
   "id": "4e4ac9bb",
   "metadata": {},
   "outputs": [
    {
     "name": "stdout",
     "output_type": "stream",
     "text": [
      "Training accuracy score is: 0.757275969170597\n"
     ]
    }
   ],
   "source": [
    "print('Training accuracy score is:',accuracy_score(y_train,predicted_train_result))"
   ]
  },
  {
   "cell_type": "code",
   "execution_count": 206,
   "id": "2684a3ef",
   "metadata": {},
   "outputs": [],
   "source": [
    "submit_svc_poly_kernel_with_GridSearchCV=pd.DataFrame({'PassengerId':df_test['PassengerId'],'Transported':predicted_test_result})"
   ]
  },
  {
   "cell_type": "code",
   "execution_count": 207,
   "id": "109ca3f8",
   "metadata": {},
   "outputs": [],
   "source": [
    "submit_svc_poly_kernel_with_GridSearchCV.to_csv('spaceship_titanic.submit_svc_poly_kernel_with_GridSearchCV.csv',index=False)"
   ]
  },
  {
   "cell_type": "code",
   "execution_count": null,
   "id": "e81706ab",
   "metadata": {},
   "outputs": [],
   "source": []
  }
 ],
 "metadata": {
  "kernelspec": {
   "display_name": "Python 3 (ipykernel)",
   "language": "python",
   "name": "python3"
  },
  "language_info": {
   "codemirror_mode": {
    "name": "ipython",
    "version": 3
   },
   "file_extension": ".py",
   "mimetype": "text/x-python",
   "name": "python",
   "nbconvert_exporter": "python",
   "pygments_lexer": "ipython3",
   "version": "3.9.12"
  }
 },
 "nbformat": 4,
 "nbformat_minor": 5
}
